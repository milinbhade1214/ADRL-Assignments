{
 "cells": [
  {
   "cell_type": "code",
   "execution_count": 1,
   "metadata": {},
   "outputs": [
    {
     "name": "stderr",
     "output_type": "stream",
     "text": [
      "/data4/home/hrishikeshj/DLNLP/envForDLNLP/lib/python3.8/site-packages/tqdm/auto.py:21: TqdmWarning: IProgress not found. Please update jupyter and ipywidgets. See https://ipywidgets.readthedocs.io/en/stable/user_install.html\n",
      "  from .autonotebook import tqdm as notebook_tqdm\n"
     ]
    }
   ],
   "source": [
    "import argparse\n",
    "import os\n",
    "import random\n",
    "import torch\n",
    "import torch.nn as nn\n",
    "import torch.nn.parallel\n",
    "import torch.optim as optim\n",
    "import torch.utils.data\n",
    "import torchvision.datasets as dset\n",
    "import torchvision.transforms as transforms\n",
    "import torchvision.utils as vutils\n",
    "import numpy as np\n",
    "import matplotlib.pyplot as plt\n",
    "import matplotlib.animation as animation\n",
    "from IPython.display import HTML\n",
    "from tqdm.auto import tqdm\n",
    "import torch.nn.functional as F\n",
    "import Models.Network as models\n",
    "from torchsummary import summary"
   ]
  },
  {
   "cell_type": "code",
   "execution_count": 2,
   "metadata": {},
   "outputs": [],
   "source": [
    "# Loading Dataset\n",
    "\n",
    "dataroot = r\"/data4/home/hrishikeshj/DLNLP/ADRLA2/Dataset/train\"\n",
    "image_size = 128\n",
    "batch_size = 64\n",
    "\n",
    "dataset = dset.ImageFolder(root=dataroot,\n",
    "                           transform=transforms.Compose([\n",
    "                               transforms.Resize(image_size),\n",
    "                               transforms.ToTensor(),\n",
    "                               transforms.Normalize((0.5, 0.5, 0.5), (0.5, 0.5, 0.5)),\n",
    "                           ]))\n",
    "\n",
    "testDataPath = r\"/data4/home/hrishikeshj/DLNLP/ADRLA2/Dataset/val\"\n",
    "\n",
    "test_dataset = dset.ImageFolder(root=testDataPath,\n",
    "                           transform=transforms.Compose([\n",
    "                               transforms.Resize(image_size),\n",
    "                               transforms.ToTensor(),\n",
    "                               transforms.Normalize((0.5, 0.5, 0.5), (0.5, 0.5, 0.5)),\n",
    "                           ]))\n",
    "\n",
    "test_dataloader = torch.utils.data.DataLoader(test_dataset, batch_size=32,\n",
    "                                         shuffle=True, num_workers=8, drop_last=True)"
   ]
  },
  {
   "cell_type": "code",
   "execution_count": 3,
   "metadata": {},
   "outputs": [],
   "source": [
    "dim_of_emb = 128\n",
    "device_to_use = 1"
   ]
  },
  {
   "cell_type": "code",
   "execution_count": 4,
   "metadata": {},
   "outputs": [],
   "source": [
    "def conv3x3(in_planes, out_planes, stride=1, groups=1, dilation=1):\n",
    "    \"\"\"3x3 convolution with padding\"\"\"\n",
    "    return nn.Conv2d(in_planes, out_planes, kernel_size=3, stride=stride,\n",
    "                     padding=dilation, groups=groups, bias=False, dilation=dilation)\n",
    "\n",
    "\n",
    "def conv1x1(in_planes, out_planes, stride=1):\n",
    "    \"\"\"1x1 convolution\"\"\"\n",
    "    return nn.Conv2d(in_planes, out_planes, kernel_size=1, stride=stride, bias=False)\n",
    "\n",
    "class BasicBlock(nn.Module):\n",
    "    expansion = 1\n",
    "\n",
    "    def __init__(self, inplanes, planes, stride=1, downsample=None, groups=1,\n",
    "                 base_width=64, dilation=1, norm_layer=None):\n",
    "        super(BasicBlock, self).__init__()\n",
    "        if norm_layer is None:\n",
    "            norm_layer = nn.BatchNorm2d\n",
    "        if groups != 1 or base_width != 64:\n",
    "            raise ValueError('BasicBlock only supports groups=1 and base_width=64')\n",
    "        if dilation > 1:\n",
    "            raise NotImplementedError(\"Dilation > 1 not supported in BasicBlock\")\n",
    "        # Both self.conv1 and self.downsample layers downsample the input when stride != 1\n",
    "        self.conv1 = conv3x3(inplanes, planes, stride)\n",
    "        self.bn1 = norm_layer(planes)\n",
    "        self.relu = nn.ReLU(inplace=True)\n",
    "        self.conv2 = conv3x3(planes, planes)\n",
    "        self.bn2 = norm_layer(planes)\n",
    "        self.downsample = downsample\n",
    "        self.stride = stride\n",
    "\n",
    "    def forward(self, x):\n",
    "        identity = x\n",
    "\n",
    "        out = self.conv1(x)\n",
    "        out = self.bn1(out)\n",
    "        out = self.relu(out)\n",
    "\n",
    "        out = self.conv2(out)\n",
    "        out = self.bn2(out)\n",
    "\n",
    "        if self.downsample is not None:\n",
    "            identity = self.downsample(x)\n",
    "\n",
    "        out += identity\n",
    "        out = self.relu(out)\n",
    "\n",
    "        return out\n",
    "\n",
    "\n",
    "class projection_MLP(nn.Module):\n",
    "    def __init__(self):\n",
    "        super(projection_MLP, self).__init__()\n",
    "\n",
    "        n_channels = 512\n",
    "\n",
    "        self.projection_head = nn.Sequential()\n",
    "\n",
    "        self.projection_head.add_module('W1', nn.Linear(\n",
    "            n_channels, n_channels))\n",
    "        self.projection_head.add_module('ReLU', nn.ReLU())\n",
    "        self.projection_head.add_module('W2', nn.Linear(\n",
    "            n_channels, 128))\n",
    "\n",
    "    def forward(self, x):\n",
    "        return self.projection_head(x)\n",
    "\n",
    "class ResNet(nn.Module):\n",
    "    def __init__(self, block, layers, num_classes=128, zero_init_residual=False,\n",
    "                 groups=1, width_per_group=64):\n",
    "        super(ResNet, self).__init__()\n",
    "        \n",
    "        self._norm_layer = nn.BatchNorm2d\n",
    "\n",
    "        self.register_buffer\n",
    "\n",
    "        self.inplanes = 64\n",
    "        self.dilation = 1\n",
    "        \n",
    "        self.groups = groups\n",
    "        self.base_width = width_per_group\n",
    "\n",
    "        self.conv1 = nn.Conv2d(3, self.inplanes, kernel_size=7, stride=2, padding=3,\n",
    "                                   bias=False)\n",
    "\n",
    "        self.maxpool = nn.MaxPool2d(kernel_size=3, stride=2, padding=1)\n",
    "\n",
    "            \n",
    "\n",
    "        self.bn1 = self._norm_layer(self.inplanes)\n",
    "        self.relu = nn.ReLU(inplace=True)\n",
    "\n",
    "        self.layer1 = self._make_layer(block, 64, layers[0])\n",
    "        self.layer2 = self._make_layer(block, 128, layers[1], stride=2)\n",
    "        self.layer3 = self._make_layer(block, 256, layers[2], stride=2)\n",
    "        self.layer4 = self._make_layer(block, 512, layers[3], stride=2)\n",
    "\n",
    "        self.avgpool = nn.AdaptiveAvgPool2d((1, 1))\n",
    "\n",
    "        self.fc = nn.Linear(512 * block.expansion,num_classes)\n",
    "\n",
    "        for m in self.modules():\n",
    "            if isinstance(m, nn.Conv2d):\n",
    "                nn.init.kaiming_normal_(m.weight, mode='fan_out', nonlinearity='relu')\n",
    "            elif isinstance(m, (nn.BatchNorm2d, nn.GroupNorm)):\n",
    "                nn.init.constant_(m.weight, 1)\n",
    "                nn.init.constant_(m.bias, 0)\n",
    "\n",
    "        # Zero-initialize the last BN in each residual branch,\n",
    "        # so that the residual branch starts with zeros, and each residual block behaves like an identity.\n",
    "        # This improves the model by 0.2~0.3% according to https://arxiv.org/abs/1706.02677\n",
    "        if zero_init_residual:\n",
    "            for m in self.modules():\n",
    "                # if isinstance(m, Bottleneck):\n",
    "                #     nn.init.constant_(m.bn3.weight, 0)\n",
    "                if isinstance(m, BasicBlock):\n",
    "                    nn.init.constant_(m.bn2.weight, 0)\n",
    "\n",
    "    def _make_layer(self, block, planes, blocks, stride=1, dilate=False):\n",
    "        norm_layer = self._norm_layer\n",
    "        downsample = None\n",
    "        previous_dilation = self.dilation\n",
    "        if dilate:\n",
    "            self.dilation *= stride\n",
    "            stride = 1\n",
    "        if stride != 1 or self.inplanes != planes * block.expansion:\n",
    "            downsample = nn.Sequential(\n",
    "                conv1x1(self.inplanes, planes * block.expansion, stride),\n",
    "                norm_layer(planes * block.expansion),\n",
    "            )\n",
    "\n",
    "        layers = []\n",
    "        layers.append(block(self.inplanes, planes, stride, downsample, self.groups,\n",
    "                            self.base_width, previous_dilation, norm_layer))\n",
    "        self.inplanes = planes * block.expansion\n",
    "        for _ in range(1, blocks):\n",
    "            layers.append(block(self.inplanes, planes, groups=self.groups,\n",
    "                                base_width=self.base_width, dilation=self.dilation,\n",
    "                                norm_layer=norm_layer))\n",
    "\n",
    "        return nn.Sequential(*layers)\n",
    "\n",
    "    def forward(self, x):\n",
    "        x = self.conv1(x)\n",
    "        x = self.bn1(x)\n",
    "        x = self.relu(x)\n",
    "\n",
    "        x = self.maxpool(x)\n",
    "\n",
    "        x = self.layer1(x)\n",
    "        x = self.layer2(x)\n",
    "        x = self.layer3(x)\n",
    "        x = self.layer4(x)\n",
    "\n",
    "        x = self.avgpool(x)\n",
    "\n",
    "        x = torch.flatten(x, 1)\n",
    "\n",
    "        x = self.fc(x)\n",
    "\n",
    "        return x"
   ]
  },
  {
   "cell_type": "code",
   "execution_count": 5,
   "metadata": {},
   "outputs": [],
   "source": [
    "queue_size = 128*batch_size\n",
    "momentum = 0.999\n",
    "temperature = 0.07\n",
    "\n",
    "learning_rate = 0.03\n",
    "sgd_weight_decay = 0.0001\n",
    "sgd_momentum = 0.9\n",
    "num_epochs = 100\n",
    "num_classes = 3"
   ]
  },
  {
   "cell_type": "code",
   "execution_count": 6,
   "metadata": {},
   "outputs": [],
   "source": [
    "class MoCo_Model(nn.Module):\n",
    "    def __init__(self):\n",
    "        \n",
    "        super(MoCo_Model, self).__init__()\n",
    "\n",
    "        self.queue_size = queue_size\n",
    "        self.momentum = momentum\n",
    "        self.temperature = temperature\n",
    "\n",
    "        assert self.queue_size % batch_size == 0  # for simplicity\n",
    "\n",
    "        # Load model\n",
    "        self.query_encoder = ResNet(BasicBlock,[2,2,2,2],num_classes=dim_of_emb)\n",
    "        self.key_encoder = ResNet(BasicBlock,[2,2,2,2],num_classes=dim_of_emb)\n",
    "\n",
    "        self.query_encoder.fc = projection_MLP()\n",
    "        self.key_encoder.fc = projection_MLP()\n",
    "\n",
    "\n",
    "        # Initialize the key encoder to have the same values as query encoder\n",
    "        # Do not update the key encoder via gradient\n",
    "        for query_param, key_param in zip(self.query_encoder.parameters(), self.key_encoder.parameters()):\n",
    "            key_param.data.copy_(query_param.data)\n",
    "            key_param.requires_grad = False\n",
    "\n",
    "        # Create the queue to store negative samples\n",
    "        self.register_buffer(\"queue\", torch.randn(self.queue_size, dim_of_emb))\n",
    "\n",
    "        # Create pointer to store current position in the queue when enqueue and dequeue\n",
    "        self.register_buffer(\"queue_ptr\", torch.zeros(1, dtype=torch.long))\n",
    "\n",
    "    @torch.no_grad()\n",
    "    def momentum_update(self):\n",
    "        \n",
    "        # For each of the parameters in each encoder\n",
    "        for p_q, p_k in zip(self.query_encoder.parameters(), self.key_encoder.parameters()):\n",
    "            p_k.data = p_k.data * self.momentum + p_q.detach().data * (1. - self.momentum)\n",
    "\n",
    "    @torch.no_grad()\n",
    "    def shuffled_idx(self, batch_size):\n",
    "        '''\n",
    "        Generation of the shuffled indexes for the implementation of ShuffleBN.\n",
    "\n",
    "        https://github.com/HobbitLong/CMC.\n",
    "\n",
    "        args:\n",
    "            batch_size (Tensor.int()):  Number of samples in a batch\n",
    "\n",
    "        returns:\n",
    "            shuffled_idxs (Tensor.long()): A random permutation index order for the shuffling of the current minibatch\n",
    "\n",
    "            reverse_idxs (Tensor.long()): A reverse of the random permutation index order for the shuffling of the\n",
    "                                            current minibatch to get back original sample order\n",
    "\n",
    "        '''\n",
    "\n",
    "        # Generate shuffled indexes\n",
    "        shuffled_idxs = torch.randperm(batch_size).long().cuda()\n",
    "\n",
    "        reverse_idxs = torch.zeros(batch_size).long().cuda()\n",
    "\n",
    "        value = torch.arange(batch_size).long().cuda()\n",
    "\n",
    "        reverse_idxs.index_copy_(0, shuffled_idxs, value)\n",
    "\n",
    "        return shuffled_idxs, reverse_idxs\n",
    "\n",
    "    @torch.no_grad()\n",
    "    def update_queue(self, feat_k):\n",
    "\n",
    "        curr_BS = feat_k.size(0)\n",
    "\n",
    "        ptr = int(self.queue_ptr)\n",
    "\n",
    "        # replace the keys at ptr (dequeue and enqueue)\n",
    "        self.queue[ptr:ptr + curr_BS, :] = feat_k\n",
    "\n",
    "        # move pointer along to end of current batch\n",
    "        ptr = (ptr + curr_BS) % self.queue_size\n",
    "\n",
    "        # Store queue pointer as register_buffer\n",
    "        self.queue_ptr[0] = ptr\n",
    "\n",
    "    def InfoNCE_logits(self, f_q, f_k):\n",
    "\n",
    "        f_k = f_k.detach()\n",
    "\n",
    "        # Get queue from register_buffer\n",
    "        f_mem = self.queue.clone().detach()\n",
    "\n",
    "        # Normalize the feature representations\n",
    "        f_q = nn.functional.normalize(f_q, dim=1)\n",
    "        f_k = nn.functional.normalize(f_k, dim=1)\n",
    "        f_mem = nn.functional.normalize(f_mem, dim=1)\n",
    "\n",
    "        # Compute sim between positive views\n",
    "        pos = torch.bmm(f_q.view(f_q.size(0), 1, -1),\n",
    "                        f_k.view(f_k.size(0), -1, 1)).squeeze(-1)\n",
    "\n",
    "        # Compute sim between postive and all negatives in the memory\n",
    "        neg = torch.mm(f_q, f_mem.transpose(1, 0))\n",
    "\n",
    "        logits = torch.cat((pos, neg), dim=1)\n",
    "\n",
    "        logits /= self.temperature\n",
    "\n",
    "        # Create labels, first logit is postive, all others are negative\n",
    "        labels = torch.zeros(logits.shape[0], dtype=torch.long).cuda()\n",
    "\n",
    "        return logits, labels\n",
    "\n",
    "    def forward(self, x_q, x_k):\n",
    "\n",
    "        batch_size = x_q.size(0)\n",
    "\n",
    "        # Feature representations of the query view from the query encoder\n",
    "        feat_q = self.query_encoder(x_q)\n",
    "\n",
    "        # TODO: shuffle ids with distributed data parallel\n",
    "        # Get shuffled and reversed indexes for the current minibatch\n",
    "        shuffled_idxs, reverse_idxs = self.shuffled_idx(batch_size)\n",
    "\n",
    "        with torch.no_grad():\n",
    "            # Update the key encoder\n",
    "            self.momentum_update()\n",
    "\n",
    "            # Shuffle minibatch\n",
    "            x_k = x_k[shuffled_idxs]\n",
    "\n",
    "            # Feature representations of the shuffled key view from the key encoder\n",
    "            feat_k = self.key_encoder(x_k)\n",
    "\n",
    "            # reverse the shuffled samples to original position\n",
    "            feat_k = feat_k[reverse_idxs]\n",
    "\n",
    "        # Compute the logits for the InfoNCE contrastive loss.\n",
    "        logit, label = self.InfoNCE_logits(feat_q, feat_k)\n",
    "\n",
    "        # Update the queue/memory with the current key_encoder minibatch.\n",
    "        self.update_queue(feat_k)\n",
    "\n",
    "        return logit, label"
   ]
  },
  {
   "cell_type": "code",
   "execution_count": 7,
   "metadata": {},
   "outputs": [],
   "source": [
    "query_encoder = ResNet(BasicBlock,[2,2,2,2],num_classes=3)"
   ]
  },
  {
   "cell_type": "code",
   "execution_count": 8,
   "metadata": {},
   "outputs": [],
   "source": [
    "modelPath = \"/data4/home/hrishikeshj/DLNLP/ADRLA3/trainedModels/TR1/mocoModel.pt\"\n",
    "moco_state_dict = torch.load(modelPath)"
   ]
  },
  {
   "cell_type": "code",
   "execution_count": 9,
   "metadata": {},
   "outputs": [],
   "source": [
    "for k in list(moco_state_dict.keys()):\n",
    "    # retain only encoder_q up to before the embedding layer\n",
    "    if k.startswith('query_encoder.') and not k.startswith('query_encoder.fc'):\n",
    "        # remove prefix\n",
    "        moco_state_dict[k[len(\"query_encoder.\"):]] = moco_state_dict[k]\n",
    "    # delete renamed or unused k\n",
    "    del moco_state_dict[k]"
   ]
  },
  {
   "cell_type": "code",
   "execution_count": 10,
   "metadata": {},
   "outputs": [
    {
     "data": {
      "text/plain": [
       "_IncompatibleKeys(missing_keys=['fc.weight', 'fc.bias'], unexpected_keys=[])"
      ]
     },
     "execution_count": 10,
     "metadata": {},
     "output_type": "execute_result"
    }
   ],
   "source": [
    "query_encoder.load_state_dict(moco_state_dict,strict=False)"
   ]
  },
  {
   "cell_type": "code",
   "execution_count": 11,
   "metadata": {},
   "outputs": [
    {
     "data": {
      "text/plain": [
       "device(type='cuda')"
      ]
     },
     "execution_count": 11,
     "metadata": {},
     "output_type": "execute_result"
    }
   ],
   "source": [
    "torch.cuda.set_device(device_to_use)\n",
    "device = torch.device('cuda') if torch.cuda.is_available() else torch.device('cpu')\n",
    "device"
   ]
  },
  {
   "cell_type": "code",
   "execution_count": 12,
   "metadata": {},
   "outputs": [],
   "source": [
    "query_encoder = query_encoder.to(device)"
   ]
  },
  {
   "cell_type": "code",
   "execution_count": 13,
   "metadata": {},
   "outputs": [
    {
     "name": "stdout",
     "output_type": "stream",
     "text": [
      "After sampling :  8777\n"
     ]
    }
   ],
   "source": [
    "class_wise_indices = {0:[i for i in range(5153)],1:[i for i in range(5153,9892)],2:[i for i in range(9892,14629)]}\n",
    "\n",
    "\n",
    "percentage = 0.6\n",
    "\n",
    "subset_indices = []\n",
    "\n",
    "for label in range(3):\n",
    "    num_of_samples = len(class_wise_indices[label])\n",
    "    num_of_samples = round(percentage*num_of_samples)\n",
    "    subset_indices.extend(class_wise_indices[label][:num_of_samples])\n",
    "\n",
    "print(\"After sampling : \",len(subset_indices))"
   ]
  },
  {
   "cell_type": "code",
   "execution_count": 14,
   "metadata": {},
   "outputs": [],
   "source": [
    "import random"
   ]
  },
  {
   "cell_type": "code",
   "execution_count": 15,
   "metadata": {},
   "outputs": [],
   "source": [
    "random.shuffle(subset_indices)"
   ]
  },
  {
   "cell_type": "code",
   "execution_count": 16,
   "metadata": {},
   "outputs": [],
   "source": [
    "subset_sampler = torch.utils.data.SubsetRandomSampler(subset_indices)"
   ]
  },
  {
   "cell_type": "code",
   "execution_count": 17,
   "metadata": {},
   "outputs": [],
   "source": [
    "batch_size = 32\n",
    "learning_rate = 0.001\n",
    "fine_tune_epochs = 200"
   ]
  },
  {
   "cell_type": "code",
   "execution_count": 18,
   "metadata": {},
   "outputs": [],
   "source": [
    "subset_dataloader = torch.utils.data.DataLoader(dataset, batch_size=batch_size\n",
    "                                         , num_workers=8, drop_last=True,sampler=subset_sampler)"
   ]
  },
  {
   "cell_type": "code",
   "execution_count": 19,
   "metadata": {},
   "outputs": [],
   "source": [
    "optimiser = torch.optim.Adam(query_encoder.parameters(), lr=learning_rate)"
   ]
  },
  {
   "cell_type": "code",
   "execution_count": 20,
   "metadata": {},
   "outputs": [],
   "source": [
    "lr_decay = torch.optim.lr_scheduler.CosineAnnealingLR(optimiser, num_epochs)"
   ]
  },
  {
   "cell_type": "code",
   "execution_count": 21,
   "metadata": {},
   "outputs": [],
   "source": [
    "criterion = nn.CrossEntropyLoss()\n",
    "criterion = criterion.to(device)"
   ]
  },
  {
   "cell_type": "code",
   "execution_count": 22,
   "metadata": {},
   "outputs": [],
   "source": [
    "patience = 40"
   ]
  },
  {
   "cell_type": "code",
   "execution_count": 23,
   "metadata": {},
   "outputs": [],
   "source": [
    "def evaluate(encoder, test_dataloader):\n",
    "    valid_loss = 0.0  # reset loss\n",
    "    valid_acc = 0.0  # reset acc\n",
    "    \n",
    "    criterion = nn.CrossEntropyLoss().cuda()\n",
    "\n",
    "    # Evaluate both encoder and class head\n",
    "    encoder.eval()\n",
    "\n",
    "    for i, (inputs, target) in enumerate(test_dataloader):\n",
    "\n",
    "        # Do not compute gradient for encoder and classification head\n",
    "        encoder.zero_grad()\n",
    "        inputs = inputs.to(device)\n",
    "        target = target.to(device)\n",
    "        # Forward pass\n",
    "\n",
    "        output = encoder(inputs)\n",
    "\n",
    "        loss = criterion(output, target)\n",
    "\n",
    "        valid_loss += loss.item()\n",
    "\n",
    "        predicted = output.argmax(-1)\n",
    "\n",
    "        acc = (predicted == target).sum().item() / target.size(0)\n",
    "\n",
    "        valid_acc += acc\n",
    "\n",
    "    valid_loss = valid_loss / len(test_dataloader)\n",
    "\n",
    "    valid_acc = valid_acc / len(test_dataloader)\n",
    "\n",
    "    print(\"Test loss : \",valid_loss)\n",
    "    print(\"Test Acc : \",valid_acc)\n",
    "    return valid_loss, valid_acc"
   ]
  },
  {
   "cell_type": "code",
   "execution_count": 24,
   "metadata": {},
   "outputs": [
    {
     "name": "stderr",
     "output_type": "stream",
     "text": [
      "  0%|          | 0/54800 [00:00<?, ?it/s]"
     ]
    },
    {
     "name": "stderr",
     "output_type": "stream",
     "text": [
      "  0%|          | 272/54800 [00:35<36:40, 24.77it/s]  "
     ]
    },
    {
     "name": "stdout",
     "output_type": "stream",
     "text": [
      "Epoch loss :  1.1295127868652344\n",
      "Epoch accuracy :  0.3418111313868613\n",
      "Test loss :  1.0978111210076704\n",
      "Test Acc :  0.33695652173913043\n"
     ]
    },
    {
     "name": "stderr",
     "output_type": "stream",
     "text": [
      "  1%|          | 547/54800 [01:17<1:15:44, 11.94it/s] "
     ]
    },
    {
     "name": "stdout",
     "output_type": "stream",
     "text": [
      "Epoch loss :  0.900285028410654\n",
      "Epoch accuracy :  0.5258895985401459\n",
      "Test loss :  0.5573484333960906\n",
      "Test Acc :  0.782608695652174\n"
     ]
    },
    {
     "name": "stderr",
     "output_type": "stream",
     "text": [
      "  1%|▏         | 821/54800 [02:03<1:38:37,  9.12it/s] "
     ]
    },
    {
     "name": "stdout",
     "output_type": "stream",
     "text": [
      "Epoch loss :  0.41279507983122427\n",
      "Epoch accuracy :  0.839530109489051\n",
      "Test loss :  0.34538228097169293\n",
      "Test Acc :  0.8729619565217391\n"
     ]
    },
    {
     "name": "stderr",
     "output_type": "stream",
     "text": [
      "  2%|▏         | 1096/54800 [02:49<1:29:31, 10.00it/s]"
     ]
    },
    {
     "name": "stdout",
     "output_type": "stream",
     "text": [
      "Epoch loss :  0.26855550469817036\n",
      "Epoch accuracy :  0.895529197080292\n",
      "Test loss :  0.2792699209049992\n",
      "Test Acc :  0.8899456521739131\n"
     ]
    },
    {
     "name": "stderr",
     "output_type": "stream",
     "text": [
      "  2%|▏         | 1369/54800 [03:34<1:16:10, 11.69it/s] "
     ]
    },
    {
     "name": "stdout",
     "output_type": "stream",
     "text": [
      "Epoch loss :  0.2037088214453772\n",
      "Epoch accuracy :  0.9265510948905109\n",
      "Test loss :  0.2320314585838629\n",
      "Test Acc :  0.9150815217391305\n"
     ]
    },
    {
     "name": "stderr",
     "output_type": "stream",
     "text": [
      "  3%|▎         | 1643/54800 [04:19<1:22:04, 10.79it/s] "
     ]
    },
    {
     "name": "stdout",
     "output_type": "stream",
     "text": [
      "Epoch loss :  0.16539036072654664\n",
      "Epoch accuracy :  0.9382983576642335\n",
      "Test loss :  0.20228466448252616\n",
      "Test Acc :  0.9245923913043478\n"
     ]
    },
    {
     "name": "stderr",
     "output_type": "stream",
     "text": [
      "  3%|▎         | 1917/54800 [05:06<1:22:38, 10.67it/s] "
     ]
    },
    {
     "name": "stdout",
     "output_type": "stream",
     "text": [
      "Epoch loss :  0.11617894037660674\n",
      "Epoch accuracy :  0.9563184306569343\n",
      "Test loss :  0.18717313266318777\n",
      "Test Acc :  0.9368206521739131\n"
     ]
    },
    {
     "name": "stderr",
     "output_type": "stream",
     "text": [
      "  4%|▍         | 2192/54800 [05:56<1:15:53, 11.55it/s] "
     ]
    },
    {
     "name": "stdout",
     "output_type": "stream",
     "text": [
      "Epoch loss :  0.08105852424989651\n",
      "Epoch accuracy :  0.9717153284671532\n",
      "Test loss :  0.21265550731154886\n",
      "Test Acc :  0.9266304347826086\n",
      "Patience Counter :  1\n"
     ]
    },
    {
     "name": "stderr",
     "output_type": "stream",
     "text": [
      "  4%|▍         | 2465/54800 [06:44<1:18:15, 11.15it/s] "
     ]
    },
    {
     "name": "stdout",
     "output_type": "stream",
     "text": [
      "Epoch loss :  0.06626833561722047\n",
      "Epoch accuracy :  0.9767335766423357\n",
      "Test loss :  0.172759461277367\n",
      "Test Acc :  0.951766304347826\n"
     ]
    },
    {
     "name": "stderr",
     "output_type": "stream",
     "text": [
      "  5%|▌         | 2740/54800 [07:28<1:10:31, 12.30it/s] "
     ]
    },
    {
     "name": "stdout",
     "output_type": "stream",
     "text": [
      "Epoch loss :  0.05059865677544854\n",
      "Epoch accuracy :  0.9819799270072993\n",
      "Test loss :  0.2609726901611556\n",
      "Test Acc :  0.9375\n",
      "Patience Counter :  1\n"
     ]
    },
    {
     "name": "stderr",
     "output_type": "stream",
     "text": [
      "  5%|▌         | 3013/54800 [08:20<1:11:32, 12.06it/s] "
     ]
    },
    {
     "name": "stdout",
     "output_type": "stream",
     "text": [
      "Epoch loss :  0.05047193981266715\n",
      "Epoch accuracy :  0.9819799270072993\n",
      "Test loss :  0.30226685693892447\n",
      "Test Acc :  0.9225543478260869\n",
      "Patience Counter :  2\n"
     ]
    },
    {
     "name": "stderr",
     "output_type": "stream",
     "text": [
      "  6%|▌         | 3287/54800 [09:07<1:19:26, 10.81it/s] "
     ]
    },
    {
     "name": "stdout",
     "output_type": "stream",
     "text": [
      "Epoch loss :  0.040376639867479316\n",
      "Epoch accuracy :  0.985059306569343\n",
      "Test loss :  0.31979483544178633\n",
      "Test Acc :  0.904891304347826\n",
      "Patience Counter :  3\n"
     ]
    },
    {
     "name": "stderr",
     "output_type": "stream",
     "text": [
      "  6%|▋         | 3562/54800 [09:52<1:07:07, 12.72it/s] "
     ]
    },
    {
     "name": "stdout",
     "output_type": "stream",
     "text": [
      "Epoch loss :  0.043541045481451476\n",
      "Epoch accuracy :  0.9858576642335767\n",
      "Test loss :  0.2348329950147435\n",
      "Test Acc :  0.9341032608695652\n",
      "Patience Counter :  4\n"
     ]
    },
    {
     "name": "stderr",
     "output_type": "stream",
     "text": [
      "  7%|▋         | 3836/54800 [10:37<1:45:44,  8.03it/s] "
     ]
    },
    {
     "name": "stdout",
     "output_type": "stream",
     "text": [
      "Epoch loss :  0.03313281161703955\n",
      "Epoch accuracy :  0.9891651459854015\n",
      "Test loss :  0.20524870326904499\n",
      "Test Acc :  0.9375\n",
      "Patience Counter :  5\n"
     ]
    },
    {
     "name": "stderr",
     "output_type": "stream",
     "text": [
      "  7%|▋         | 4109/54800 [11:21<1:17:34, 10.89it/s] "
     ]
    },
    {
     "name": "stdout",
     "output_type": "stream",
     "text": [
      "Epoch loss :  0.022993587187586716\n",
      "Epoch accuracy :  0.9920164233576643\n",
      "Test loss :  0.28868804115842545\n",
      "Test Acc :  0.9300271739130435\n",
      "Patience Counter :  6\n"
     ]
    },
    {
     "name": "stderr",
     "output_type": "stream",
     "text": [
      "  8%|▊         | 4384/54800 [11:59<1:08:16, 12.31it/s] "
     ]
    },
    {
     "name": "stdout",
     "output_type": "stream",
     "text": [
      "Epoch loss :  0.03218088729055743\n",
      "Epoch accuracy :  0.9911040145985401\n",
      "Test loss :  0.2663768073948829\n",
      "Test Acc :  0.9252717391304348\n",
      "Patience Counter :  7\n"
     ]
    },
    {
     "name": "stderr",
     "output_type": "stream",
     "text": [
      "  8%|▊         | 4657/54800 [12:50<1:28:03,  9.49it/s] "
     ]
    },
    {
     "name": "stdout",
     "output_type": "stream",
     "text": [
      "Epoch loss :  0.014953106720761845\n",
      "Epoch accuracy :  0.994867700729927\n",
      "Test loss :  0.3268871917085641\n",
      "Test Acc :  0.936141304347826\n",
      "Patience Counter :  8\n"
     ]
    },
    {
     "name": "stderr",
     "output_type": "stream",
     "text": [
      "  9%|▉         | 4932/54800 [13:33<1:08:33, 12.12it/s] "
     ]
    },
    {
     "name": "stdout",
     "output_type": "stream",
     "text": [
      "Epoch loss :  0.023414645764298428\n",
      "Epoch accuracy :  0.9931569343065694\n",
      "Test loss :  0.22467836806469638\n",
      "Test Acc :  0.9341032608695652\n",
      "Patience Counter :  9\n"
     ]
    },
    {
     "name": "stderr",
     "output_type": "stream",
     "text": [
      "  9%|▉         | 5205/54800 [14:16<1:09:00, 11.98it/s] "
     ]
    },
    {
     "name": "stdout",
     "output_type": "stream",
     "text": [
      "Epoch loss :  0.018539330935497148\n",
      "Epoch accuracy :  0.9942974452554745\n",
      "Test loss :  0.4206996425409275\n",
      "Test Acc :  0.9341032608695652\n",
      "Patience Counter :  10\n"
     ]
    },
    {
     "name": "stderr",
     "output_type": "stream",
     "text": [
      " 10%|▉         | 5479/54800 [15:01<1:24:47,  9.69it/s] "
     ]
    },
    {
     "name": "stdout",
     "output_type": "stream",
     "text": [
      "Epoch loss :  0.03223365119284097\n",
      "Epoch accuracy :  0.9903056569343066\n",
      "Test loss :  0.24444171780993676\n",
      "Test Acc :  0.9456521739130435\n",
      "Patience Counter :  11\n"
     ]
    },
    {
     "name": "stderr",
     "output_type": "stream",
     "text": [
      " 10%|█         | 5754/54800 [15:44<2:06:29,  6.46it/s] "
     ]
    },
    {
     "name": "stdout",
     "output_type": "stream",
     "text": [
      "Epoch loss :  0.01695851800636475\n",
      "Epoch accuracy :  0.9937271897810219\n",
      "Test loss :  0.31664699890002934\n",
      "Test Acc :  0.9375\n",
      "Patience Counter :  12\n"
     ]
    },
    {
     "name": "stderr",
     "output_type": "stream",
     "text": [
      " 11%|█         | 6028/54800 [16:27<1:34:24,  8.61it/s] "
     ]
    },
    {
     "name": "stdout",
     "output_type": "stream",
     "text": [
      "Epoch loss :  0.017603519805366924\n",
      "Epoch accuracy :  0.9937271897810219\n",
      "Test loss :  0.30911913383802725\n",
      "Test Acc :  0.9408967391304348\n",
      "Patience Counter :  13\n"
     ]
    },
    {
     "name": "stderr",
     "output_type": "stream",
     "text": [
      " 12%|█▏        | 6302/54800 [17:14<1:07:17, 12.01it/s] "
     ]
    },
    {
     "name": "stdout",
     "output_type": "stream",
     "text": [
      "Epoch loss :  0.013744410059614642\n",
      "Epoch accuracy :  0.9960082116788321\n",
      "Test loss :  0.23710170496728414\n",
      "Test Acc :  0.9524456521739131\n"
     ]
    },
    {
     "name": "stderr",
     "output_type": "stream",
     "text": [
      " 12%|█▏        | 6575/54800 [17:58<1:11:05, 11.31it/s] "
     ]
    },
    {
     "name": "stdout",
     "output_type": "stream",
     "text": [
      "Epoch loss :  0.008464950688816184\n",
      "Epoch accuracy :  0.9977189781021898\n",
      "Test loss :  0.2525075035386101\n",
      "Test Acc :  0.9510869565217391\n",
      "Patience Counter :  1\n"
     ]
    },
    {
     "name": "stderr",
     "output_type": "stream",
     "text": [
      " 12%|█▏        | 6849/54800 [18:41<1:09:26, 11.51it/s] "
     ]
    },
    {
     "name": "stdout",
     "output_type": "stream",
     "text": [
      "Epoch loss :  0.022204318728177908\n",
      "Epoch accuracy :  0.9932709854014599\n",
      "Test loss :  0.19917236643074\n",
      "Test Acc :  0.9381793478260869\n",
      "Patience Counter :  2\n"
     ]
    },
    {
     "name": "stderr",
     "output_type": "stream",
     "text": [
      " 13%|█▎        | 7124/54800 [19:25<1:40:54,  7.87it/s] "
     ]
    },
    {
     "name": "stdout",
     "output_type": "stream",
     "text": [
      "Epoch loss :  0.014621064320177079\n",
      "Epoch accuracy :  0.9955520072992701\n",
      "Test loss :  0.4033732295672804\n",
      "Test Acc :  0.936141304347826\n",
      "Patience Counter :  3\n"
     ]
    },
    {
     "name": "stderr",
     "output_type": "stream",
     "text": [
      " 14%|█▎        | 7398/54800 [20:07<1:04:35, 12.23it/s] "
     ]
    },
    {
     "name": "stdout",
     "output_type": "stream",
     "text": [
      "Epoch loss :  0.013542426440177434\n",
      "Epoch accuracy :  0.9962363138686131\n",
      "Test loss :  0.2853455963328167\n",
      "Test Acc :  0.9510869565217391\n",
      "Patience Counter :  4\n"
     ]
    },
    {
     "name": "stderr",
     "output_type": "stream",
     "text": [
      " 14%|█▍        | 7671/54800 [20:55<1:08:51, 11.41it/s] "
     ]
    },
    {
     "name": "stdout",
     "output_type": "stream",
     "text": [
      "Epoch loss :  0.025315876318043957\n",
      "Epoch accuracy :  0.9928147810218978\n",
      "Test loss :  0.24753458729094785\n",
      "Test Acc :  0.9239130434782609\n",
      "Patience Counter :  5\n"
     ]
    },
    {
     "name": "stderr",
     "output_type": "stream",
     "text": [
      " 14%|█▍        | 7946/54800 [21:35<1:24:27,  9.25it/s] "
     ]
    },
    {
     "name": "stdout",
     "output_type": "stream",
     "text": [
      "Epoch loss :  0.018108796275854246\n",
      "Epoch accuracy :  0.9955520072992701\n",
      "Test loss :  0.3163058325058639\n",
      "Test Acc :  0.9510869565217391\n",
      "Patience Counter :  6\n"
     ]
    },
    {
     "name": "stderr",
     "output_type": "stream",
     "text": [
      " 15%|█▌        | 8220/54800 [22:17<1:07:54, 11.43it/s] "
     ]
    },
    {
     "name": "stdout",
     "output_type": "stream",
     "text": [
      "Epoch loss :  0.012489731312714877\n",
      "Epoch accuracy :  0.9945255474452555\n",
      "Test loss :  0.34660201033820276\n",
      "Test Acc :  0.9402173913043478\n",
      "Patience Counter :  7\n"
     ]
    },
    {
     "name": "stderr",
     "output_type": "stream",
     "text": [
      " 15%|█▌        | 8493/54800 [23:04<1:18:47,  9.79it/s] "
     ]
    },
    {
     "name": "stdout",
     "output_type": "stream",
     "text": [
      "Epoch loss :  0.017807747160816234\n",
      "Epoch accuracy :  0.9933850364963503\n",
      "Test loss :  0.23250077045193632\n",
      "Test Acc :  0.9415760869565217\n",
      "Patience Counter :  8\n"
     ]
    },
    {
     "name": "stderr",
     "output_type": "stream",
     "text": [
      " 16%|█▌        | 8768/54800 [23:48<1:56:30,  6.58it/s] "
     ]
    },
    {
     "name": "stdout",
     "output_type": "stream",
     "text": [
      "Epoch loss :  0.0050064904108556435\n",
      "Epoch accuracy :  0.9982892335766423\n",
      "Test loss :  0.3233624858349567\n",
      "Test Acc :  0.9476902173913043\n",
      "Patience Counter :  9\n"
     ]
    },
    {
     "name": "stderr",
     "output_type": "stream",
     "text": [
      " 16%|█▋        | 9042/54800 [24:33<1:01:51, 12.33it/s] "
     ]
    },
    {
     "name": "stdout",
     "output_type": "stream",
     "text": [
      "Epoch loss :  0.005375374532588577\n",
      "Epoch accuracy :  0.9988594890510949\n"
     ]
    },
    {
     "name": "stderr",
     "output_type": "stream",
     "text": [
      " 16%|█▋        | 9042/54800 [24:43<1:01:51, 12.33it/s]"
     ]
    },
    {
     "name": "stdout",
     "output_type": "stream",
     "text": [
      "Test loss :  0.31593507793782605\n",
      "Test Acc :  0.9449728260869565\n",
      "Patience Counter :  10\n"
     ]
    },
    {
     "name": "stderr",
     "output_type": "stream",
     "text": [
      " 17%|█▋        | 9315/54800 [25:16<1:08:38, 11.04it/s] "
     ]
    },
    {
     "name": "stdout",
     "output_type": "stream",
     "text": [
      "Epoch loss :  0.00861041923550162\n",
      "Epoch accuracy :  0.9965784671532847\n",
      "Test loss :  0.42226808684015693\n",
      "Test Acc :  0.9415760869565217\n",
      "Patience Counter :  11\n"
     ]
    },
    {
     "name": "stderr",
     "output_type": "stream",
     "text": [
      " 17%|█▋        | 9589/54800 [25:55<1:04:25, 11.70it/s] "
     ]
    },
    {
     "name": "stdout",
     "output_type": "stream",
     "text": [
      "Epoch loss :  0.01416221718492673\n",
      "Epoch accuracy :  0.9963503649635036\n",
      "Test loss :  0.3575813752164401\n",
      "Test Acc :  0.9442934782608695\n",
      "Patience Counter :  12\n"
     ]
    },
    {
     "name": "stderr",
     "output_type": "stream",
     "text": [
      " 18%|█▊        | 9863/54800 [26:39<1:19:56,  9.37it/s] "
     ]
    },
    {
     "name": "stdout",
     "output_type": "stream",
     "text": [
      "Epoch loss :  0.0010823844515977863\n",
      "Epoch accuracy :  0.9994297445255474\n",
      "Test loss :  0.4525549452316583\n",
      "Test Acc :  0.9341032608695652\n",
      "Patience Counter :  13\n"
     ]
    },
    {
     "name": "stderr",
     "output_type": "stream",
     "text": [
      " 18%|█▊        | 10137/54800 [27:24<1:53:36,  6.55it/s]"
     ]
    },
    {
     "name": "stdout",
     "output_type": "stream",
     "text": [
      "Epoch loss :  0.01545940178527939\n",
      "Epoch accuracy :  0.9946395985401459\n",
      "Test loss :  0.35898794795629446\n",
      "Test Acc :  0.9483695652173914\n",
      "Patience Counter :  14\n"
     ]
    },
    {
     "name": "stderr",
     "output_type": "stream",
     "text": [
      " 19%|█▉        | 10412/54800 [28:10<1:11:06, 10.40it/s] "
     ]
    },
    {
     "name": "stdout",
     "output_type": "stream",
     "text": [
      "Epoch loss :  0.006948394332888901\n",
      "Epoch accuracy :  0.9979470802919708\n",
      "Test loss :  0.5845100642384394\n",
      "Test Acc :  0.8953804347826086\n",
      "Patience Counter :  15\n"
     ]
    },
    {
     "name": "stderr",
     "output_type": "stream",
     "text": [
      " 19%|█▉        | 10685/54800 [28:54<1:00:20, 12.18it/s] "
     ]
    },
    {
     "name": "stdout",
     "output_type": "stream",
     "text": [
      "Epoch loss :  0.011185460413760485\n",
      "Epoch accuracy :  0.9970346715328468\n",
      "Test loss :  0.29006670716253163\n",
      "Test Acc :  0.9497282608695652\n",
      "Patience Counter :  16\n"
     ]
    },
    {
     "name": "stderr",
     "output_type": "stream",
     "text": [
      " 20%|██        | 10960/54800 [29:40<1:03:32, 11.50it/s] "
     ]
    },
    {
     "name": "stdout",
     "output_type": "stream",
     "text": [
      "Epoch loss :  0.0008522529194346921\n",
      "Epoch accuracy :  0.9998859489051095\n",
      "Test loss :  0.38571234916605096\n",
      "Test Acc :  0.9551630434782609\n"
     ]
    },
    {
     "name": "stderr",
     "output_type": "stream",
     "text": [
      " 20%|██        | 11233/54800 [30:22<1:01:30, 11.80it/s] "
     ]
    },
    {
     "name": "stdout",
     "output_type": "stream",
     "text": [
      "Epoch loss :  4.225515767804982e-05\n",
      "Epoch accuracy :  1.0\n",
      "Test loss :  0.4227496343482926\n",
      "Test Acc :  0.9538043478260869\n",
      "Patience Counter :  1\n"
     ]
    },
    {
     "name": "stderr",
     "output_type": "stream",
     "text": [
      " 21%|██        | 11507/54800 [31:08<2:04:44,  5.78it/s] "
     ]
    },
    {
     "name": "stdout",
     "output_type": "stream",
     "text": [
      "Epoch loss :  2.070278633409129e-06\n",
      "Epoch accuracy :  1.0\n",
      "Test loss :  0.4489888282065299\n",
      "Test Acc :  0.9538043478260869\n",
      "Patience Counter :  2\n"
     ]
    },
    {
     "name": "stderr",
     "output_type": "stream",
     "text": [
      " 22%|██▏       | 11782/54800 [31:56<1:23:59,  8.54it/s] "
     ]
    },
    {
     "name": "stdout",
     "output_type": "stream",
     "text": [
      "Epoch loss :  1.1798150607702718e-06\n",
      "Epoch accuracy :  1.0\n",
      "Test loss :  0.48562962520786046\n",
      "Test Acc :  0.953125\n",
      "Patience Counter :  3\n"
     ]
    },
    {
     "name": "stderr",
     "output_type": "stream",
     "text": [
      " 22%|██▏       | 12055/54800 [32:43<59:23, 12.00it/s]   "
     ]
    },
    {
     "name": "stdout",
     "output_type": "stream",
     "text": [
      "Epoch loss :  7.337121537606623e-07\n",
      "Epoch accuracy :  1.0\n",
      "Test loss :  0.5028589894089813\n",
      "Test Acc :  0.953125\n",
      "Patience Counter :  4\n"
     ]
    },
    {
     "name": "stderr",
     "output_type": "stream",
     "text": [
      " 22%|██▎       | 12330/54800 [33:24<1:21:47,  8.65it/s] "
     ]
    },
    {
     "name": "stdout",
     "output_type": "stream",
     "text": [
      "Epoch loss :  4.560835722779064e-07\n",
      "Epoch accuracy :  1.0\n"
     ]
    },
    {
     "name": "stderr",
     "output_type": "stream",
     "text": [
      " 22%|██▎       | 12330/54800 [33:34<1:21:47,  8.65it/s]"
     ]
    },
    {
     "name": "stdout",
     "output_type": "stream",
     "text": [
      "Test loss :  0.5228779285759125\n",
      "Test Acc :  0.9524456521739131\n",
      "Patience Counter :  5\n"
     ]
    },
    {
     "name": "stderr",
     "output_type": "stream",
     "text": [
      " 23%|██▎       | 12604/54800 [34:12<1:20:43,  8.71it/s] "
     ]
    },
    {
     "name": "stdout",
     "output_type": "stream",
     "text": [
      "Epoch loss :  2.9064586822600625e-07\n",
      "Epoch accuracy :  1.0\n",
      "Test loss :  0.5417103605719065\n",
      "Test Acc :  0.9524456521739131\n",
      "Patience Counter :  6\n"
     ]
    },
    {
     "name": "stderr",
     "output_type": "stream",
     "text": [
      " 23%|██▎       | 12877/54800 [34:57<57:12, 12.21it/s]   "
     ]
    },
    {
     "name": "stdout",
     "output_type": "stream",
     "text": [
      "Epoch loss :  1.9434993880258553e-07\n",
      "Epoch accuracy :  1.0\n",
      "Test loss :  0.5415610074167782\n",
      "Test Acc :  0.9538043478260869\n",
      "Patience Counter :  7\n"
     ]
    },
    {
     "name": "stderr",
     "output_type": "stream",
     "text": [
      " 24%|██▍       | 13152/54800 [35:42<1:07:18, 10.31it/s] "
     ]
    },
    {
     "name": "stdout",
     "output_type": "stream",
     "text": [
      "Epoch loss :  1.3374130346821635e-07\n",
      "Epoch accuracy :  1.0\n",
      "Test loss :  0.569241383085393\n",
      "Test Acc :  0.953125\n",
      "Patience Counter :  8\n"
     ]
    },
    {
     "name": "stderr",
     "output_type": "stream",
     "text": [
      " 24%|██▍       | 13425/54800 [36:26<1:11:17,  9.67it/s] "
     ]
    },
    {
     "name": "stdout",
     "output_type": "stream",
     "text": [
      "Epoch loss :  1.033686813752505e-07\n",
      "Epoch accuracy :  1.0\n",
      "Test loss :  0.5747915632874802\n",
      "Test Acc :  0.9538043478260869\n",
      "Patience Counter :  9\n"
     ]
    },
    {
     "name": "stderr",
     "output_type": "stream",
     "text": [
      " 25%|██▌       | 13700/54800 [37:08<1:00:06, 11.40it/s] "
     ]
    },
    {
     "name": "stdout",
     "output_type": "stream",
     "text": [
      "Epoch loss :  7.81759184645788e-08\n",
      "Epoch accuracy :  1.0\n",
      "Test loss :  0.5701229617086974\n",
      "Test Acc :  0.9565217391304348\n"
     ]
    },
    {
     "name": "stderr",
     "output_type": "stream",
     "text": [
      " 25%|██▌       | 13973/54800 [37:53<1:27:12,  7.80it/s] "
     ]
    },
    {
     "name": "stdout",
     "output_type": "stream",
     "text": [
      "Epoch loss :  6.039269319104587e-08\n",
      "Epoch accuracy :  1.0\n",
      "Test loss :  0.5761270121515755\n",
      "Test Acc :  0.9551630434782609\n",
      "Patience Counter :  1\n"
     ]
    },
    {
     "name": "stderr",
     "output_type": "stream",
     "text": [
      " 26%|██▌       | 14247/54800 [38:37<1:11:14,  9.49it/s] "
     ]
    },
    {
     "name": "stdout",
     "output_type": "stream",
     "text": [
      "Epoch loss :  4.739516835280327e-08\n",
      "Epoch accuracy :  1.0\n",
      "Test loss :  0.6010882644897365\n",
      "Test Acc :  0.9558423913043478\n",
      "Patience Counter :  2\n"
     ]
    },
    {
     "name": "stderr",
     "output_type": "stream",
     "text": [
      " 26%|██▋       | 14522/54800 [39:23<1:15:11,  8.93it/s] "
     ]
    },
    {
     "name": "stdout",
     "output_type": "stream",
     "text": [
      "Epoch loss :  3.7891716554382285e-08\n",
      "Epoch accuracy :  1.0\n",
      "Test loss :  0.6064691877952775\n",
      "Test Acc :  0.9572010869565217\n"
     ]
    },
    {
     "name": "stderr",
     "output_type": "stream",
     "text": [
      " 27%|██▋       | 14795/54800 [40:10<55:27, 12.02it/s]   "
     ]
    },
    {
     "name": "stdout",
     "output_type": "stream",
     "text": [
      "Epoch loss :  3.014208957126427e-08\n",
      "Epoch accuracy :  1.0\n",
      "Test loss :  0.6064735019632385\n",
      "Test Acc :  0.9565217391304348\n",
      "Patience Counter :  1\n"
     ]
    },
    {
     "name": "stderr",
     "output_type": "stream",
     "text": [
      " 28%|██▊       | 15070/54800 [40:56<1:02:24, 10.61it/s] "
     ]
    },
    {
     "name": "stdout",
     "output_type": "stream",
     "text": [
      "Epoch loss :  2.4703745764349107e-08\n",
      "Epoch accuracy :  1.0\n",
      "Test loss :  0.6002865047279616\n",
      "Test Acc :  0.9572010869565217\n",
      "Patience Counter :  2\n"
     ]
    },
    {
     "name": "stderr",
     "output_type": "stream",
     "text": [
      " 28%|██▊       | 15344/54800 [41:36<56:25, 11.65it/s]   "
     ]
    },
    {
     "name": "stdout",
     "output_type": "stream",
     "text": [
      "Epoch loss :  2.0421049305728992e-08\n",
      "Epoch accuracy :  1.0\n",
      "Test loss :  0.636841701659726\n",
      "Test Acc :  0.9558423913043478\n",
      "Patience Counter :  3\n"
     ]
    },
    {
     "name": "stderr",
     "output_type": "stream",
     "text": [
      " 28%|██▊       | 15617/54800 [42:20<1:01:06, 10.69it/s] "
     ]
    },
    {
     "name": "stdout",
     "output_type": "stream",
     "text": [
      "Epoch loss :  1.6994887894377346e-08\n",
      "Epoch accuracy :  1.0\n",
      "Test loss :  0.6417185251830282\n",
      "Test Acc :  0.9565217391304348\n",
      "Patience Counter :  4\n"
     ]
    },
    {
     "name": "stderr",
     "output_type": "stream",
     "text": [
      " 29%|██▉       | 15891/54800 [43:04<53:58, 12.01it/s]   "
     ]
    },
    {
     "name": "stdout",
     "output_type": "stream",
     "text": [
      "Epoch loss :  1.41397574022502e-08\n",
      "Epoch accuracy :  1.0\n",
      "Test loss :  0.6438470531836316\n",
      "Test Acc :  0.9565217391304348\n",
      "Patience Counter :  5\n"
     ]
    },
    {
     "name": "stderr",
     "output_type": "stream",
     "text": [
      " 29%|██▉       | 16165/54800 [43:46<57:04, 11.28it/s]   "
     ]
    },
    {
     "name": "stdout",
     "output_type": "stream",
     "text": [
      "Epoch loss :  1.2032392060004109e-08\n",
      "Epoch accuracy :  1.0\n",
      "Test loss :  0.6581960999755033\n",
      "Test Acc :  0.9565217391304348\n",
      "Patience Counter :  6\n"
     ]
    },
    {
     "name": "stderr",
     "output_type": "stream",
     "text": [
      " 30%|██▉       | 16439/54800 [44:25<52:14, 12.24it/s]   "
     ]
    },
    {
     "name": "stdout",
     "output_type": "stream",
     "text": [
      "Epoch loss :  1.02241378186092e-08\n",
      "Epoch accuracy :  1.0\n"
     ]
    },
    {
     "name": "stderr",
     "output_type": "stream",
     "text": [
      " 30%|███       | 16440/54800 [44:35<52:14, 12.24it/s]"
     ]
    },
    {
     "name": "stdout",
     "output_type": "stream",
     "text": [
      "Test loss :  0.6413635897902363\n",
      "Test Acc :  0.9565217391304348\n",
      "Patience Counter :  7\n"
     ]
    },
    {
     "name": "stderr",
     "output_type": "stream",
     "text": [
      " 30%|███       | 16713/54800 [45:08<57:07, 11.11it/s]   "
     ]
    },
    {
     "name": "stdout",
     "output_type": "stream",
     "text": [
      "Epoch loss :  8.687799397974341e-09\n",
      "Epoch accuracy :  1.0\n",
      "Test loss :  0.6295438818785379\n",
      "Test Acc :  0.9565217391304348\n",
      "Patience Counter :  8\n"
     ]
    },
    {
     "name": "stderr",
     "output_type": "stream",
     "text": [
      " 31%|███       | 16987/54800 [45:49<54:52, 11.49it/s]   "
     ]
    },
    {
     "name": "stdout",
     "output_type": "stream",
     "text": [
      "Epoch loss :  7.640913510182096e-09\n",
      "Epoch accuracy :  1.0\n",
      "Test loss :  0.6653522965882802\n",
      "Test Acc :  0.9565217391304348\n",
      "Patience Counter :  9\n"
     ]
    },
    {
     "name": "stderr",
     "output_type": "stream",
     "text": [
      " 32%|███▏      | 17262/54800 [46:38<55:24, 11.29it/s]   "
     ]
    },
    {
     "name": "stdout",
     "output_type": "stream",
     "text": [
      "Epoch loss :  6.63481633705036e-09\n",
      "Epoch accuracy :  1.0\n",
      "Test loss :  0.6582775160100682\n",
      "Test Acc :  0.9572010869565217\n",
      "Patience Counter :  10\n"
     ]
    },
    {
     "name": "stderr",
     "output_type": "stream",
     "text": [
      " 32%|███▏      | 17536/54800 [47:22<51:55, 11.96it/s]   "
     ]
    },
    {
     "name": "stdout",
     "output_type": "stream",
     "text": [
      "Epoch loss :  5.914232175367547e-09\n",
      "Epoch accuracy :  1.0\n",
      "Test loss :  0.6724817767598615\n",
      "Test Acc :  0.9578804347826086\n"
     ]
    },
    {
     "name": "stderr",
     "output_type": "stream",
     "text": [
      " 32%|███▏      | 17809/54800 [48:10<1:45:09,  5.86it/s] "
     ]
    },
    {
     "name": "stdout",
     "output_type": "stream",
     "text": [
      "Epoch loss :  5.22084051011449e-09\n",
      "Epoch accuracy :  1.0\n",
      "Test loss :  0.6897362028324862\n",
      "Test Acc :  0.9558423913043478\n",
      "Patience Counter :  1\n"
     ]
    },
    {
     "name": "stderr",
     "output_type": "stream",
     "text": [
      " 33%|███▎      | 18084/54800 [48:54<1:36:46,  6.32it/s] "
     ]
    },
    {
     "name": "stdout",
     "output_type": "stream",
     "text": [
      "Epoch loss :  4.677003156213299e-09\n",
      "Epoch accuracy :  1.0\n",
      "Test loss :  0.6966661585020483\n",
      "Test Acc :  0.9551630434782609\n",
      "Patience Counter :  2\n"
     ]
    },
    {
     "name": "stderr",
     "output_type": "stream",
     "text": [
      " 34%|███▎      | 18358/54800 [49:38<51:02, 11.90it/s]   "
     ]
    },
    {
     "name": "stdout",
     "output_type": "stream",
     "text": [
      "Epoch loss :  4.037994297409739e-09\n",
      "Epoch accuracy :  1.0\n",
      "Test loss :  0.6889785846180051\n",
      "Test Acc :  0.9565217391304348\n",
      "Patience Counter :  3\n"
     ]
    },
    {
     "name": "stderr",
     "output_type": "stream",
     "text": [
      " 34%|███▍      | 18631/54800 [50:20<52:20, 11.52it/s]   "
     ]
    },
    {
     "name": "stdout",
     "output_type": "stream",
     "text": [
      "Epoch loss :  3.643712391015654e-09\n",
      "Epoch accuracy :  1.0\n",
      "Test loss :  0.6788266553095711\n",
      "Test Acc :  0.9565217391304348\n",
      "Patience Counter :  4\n"
     ]
    },
    {
     "name": "stderr",
     "output_type": "stream",
     "text": [
      " 34%|███▍      | 18906/54800 [51:05<1:24:30,  7.08it/s] "
     ]
    },
    {
     "name": "stdout",
     "output_type": "stream",
     "text": [
      "Epoch loss :  3.2630261809664617e-09\n",
      "Epoch accuracy :  1.0\n",
      "Test loss :  0.7096764302381386\n",
      "Test Acc :  0.9551630434782609\n",
      "Patience Counter :  5\n"
     ]
    },
    {
     "name": "stderr",
     "output_type": "stream",
     "text": [
      " 35%|███▍      | 19179/54800 [51:54<1:11:56,  8.25it/s] "
     ]
    },
    {
     "name": "stdout",
     "output_type": "stream",
     "text": [
      "Epoch loss :  2.8959359095663117e-09\n",
      "Epoch accuracy :  1.0\n",
      "Test loss :  0.7135303526321025\n",
      "Test Acc :  0.9558423913043478\n",
      "Patience Counter :  6\n"
     ]
    },
    {
     "name": "stderr",
     "output_type": "stream",
     "text": [
      " 35%|███▌      | 19453/54800 [52:39<54:46, 10.76it/s]   "
     ]
    },
    {
     "name": "stdout",
     "output_type": "stream",
     "text": [
      "Epoch loss :  2.7055927312021655e-09\n",
      "Epoch accuracy :  1.0\n",
      "Test loss :  0.7177861146929227\n",
      "Test Acc :  0.9558423913043478\n",
      "Patience Counter :  7\n"
     ]
    },
    {
     "name": "stderr",
     "output_type": "stream",
     "text": [
      " 36%|███▌      | 19727/54800 [53:26<54:33, 10.71it/s]   "
     ]
    },
    {
     "name": "stdout",
     "output_type": "stream",
     "text": [
      "Epoch loss :  2.4336740011715636e-09\n",
      "Epoch accuracy :  1.0\n",
      "Test loss :  0.6998269346733992\n",
      "Test Acc :  0.9572010869565217\n",
      "Patience Counter :  8\n"
     ]
    },
    {
     "name": "stderr",
     "output_type": "stream",
     "text": [
      " 36%|███▋      | 20002/54800 [54:28<2:06:24,  4.59it/s] "
     ]
    },
    {
     "name": "stdout",
     "output_type": "stream",
     "text": [
      "Epoch loss :  2.2161389738726958e-09\n",
      "Epoch accuracy :  1.0\n",
      "Test loss :  0.7058768765339561\n",
      "Test Acc :  0.9565217391304348\n",
      "Patience Counter :  9\n"
     ]
    },
    {
     "name": "stderr",
     "output_type": "stream",
     "text": [
      " 37%|███▋      | 20276/54800 [55:49<2:15:45,  4.24it/s] "
     ]
    },
    {
     "name": "stdout",
     "output_type": "stream",
     "text": [
      "Epoch loss :  1.9986039060547397e-09\n",
      "Epoch accuracy :  1.0\n",
      "Test loss :  0.7294341675768877\n",
      "Test Acc :  0.9558423913043478\n",
      "Patience Counter :  10\n"
     ]
    },
    {
     "name": "stderr",
     "output_type": "stream",
     "text": [
      " 38%|███▊      | 20550/54800 [56:46<1:28:07,  6.48it/s] "
     ]
    },
    {
     "name": "stdout",
     "output_type": "stream",
     "text": [
      "Epoch loss :  1.7946647712131526e-09\n",
      "Epoch accuracy :  1.0\n",
      "Test loss :  0.7255873916992246\n",
      "Test Acc :  0.9565217391304348\n",
      "Patience Counter :  11\n"
     ]
    },
    {
     "name": "stderr",
     "output_type": "stream",
     "text": [
      " 38%|███▊      | 20824/54800 [57:46<1:31:49,  6.17it/s] "
     ]
    },
    {
     "name": "stdout",
     "output_type": "stream",
     "text": [
      "Epoch loss :  1.6451094760578188e-09\n",
      "Epoch accuracy :  1.0\n",
      "Test loss :  0.7198062878087018\n",
      "Test Acc :  0.9572010869565217\n",
      "Patience Counter :  12\n"
     ]
    },
    {
     "name": "stderr",
     "output_type": "stream",
     "text": [
      " 38%|███▊      | 21097/54800 [58:48<49:44, 11.29it/s]   "
     ]
    },
    {
     "name": "stdout",
     "output_type": "stream",
     "text": [
      "Epoch loss :  1.590725695529435e-09\n",
      "Epoch accuracy :  1.0\n",
      "Test loss :  0.7383674976768648\n",
      "Test Acc :  0.9558423913043478\n",
      "Patience Counter :  13\n"
     ]
    },
    {
     "name": "stderr",
     "output_type": "stream",
     "text": [
      " 39%|███▉      | 21371/54800 [59:42<1:19:37,  7.00it/s] "
     ]
    },
    {
     "name": "stdout",
     "output_type": "stream",
     "text": [
      "Epoch loss :  1.4819581490595394e-09\n",
      "Epoch accuracy :  1.0\n",
      "Test loss :  0.7341735178965686\n",
      "Test Acc :  0.9572010869565217\n",
      "Patience Counter :  14\n"
     ]
    },
    {
     "name": "stderr",
     "output_type": "stream",
     "text": [
      " 40%|███▉      | 21646/54800 [1:00:35<1:01:38,  8.96it/s]"
     ]
    },
    {
     "name": "stdout",
     "output_type": "stream",
     "text": [
      "Epoch loss :  1.400382498526508e-09\n",
      "Epoch accuracy :  1.0\n",
      "Test loss :  0.6845195761858176\n",
      "Test Acc :  0.9585597826086957\n"
     ]
    },
    {
     "name": "stderr",
     "output_type": "stream",
     "text": [
      " 40%|███▉      | 21918/54800 [1:00:52<12:43, 43.07it/s]  "
     ]
    },
    {
     "name": "stdout",
     "output_type": "stream",
     "text": [
      "Epoch loss :  1.2780189890961176e-09\n",
      "Epoch accuracy :  1.0\n",
      "Test loss :  0.7389559899240481\n",
      "Test Acc :  0.9578804347826086\n",
      "Patience Counter :  1\n"
     ]
    },
    {
     "name": "stderr",
     "output_type": "stream",
     "text": [
      " 40%|████      | 22193/54800 [1:01:27<1:14:46,  7.27it/s]"
     ]
    },
    {
     "name": "stdout",
     "output_type": "stream",
     "text": [
      "Epoch loss :  1.1556554893903084e-09\n",
      "Epoch accuracy :  1.0\n",
      "Test loss :  0.7298594375358987\n",
      "Test Acc :  0.9585597826086957\n",
      "Patience Counter :  2\n"
     ]
    },
    {
     "name": "stderr",
     "output_type": "stream",
     "text": [
      " 41%|████      | 22467/54800 [1:01:47<14:15, 37.81it/s]  "
     ]
    },
    {
     "name": "stdout",
     "output_type": "stream",
     "text": [
      "Epoch loss :  1.060483855637238e-09\n",
      "Epoch accuracy :  1.0\n",
      "Test loss :  0.7258903240982074\n",
      "Test Acc :  0.9578804347826086\n",
      "Patience Counter :  3\n"
     ]
    },
    {
     "name": "stderr",
     "output_type": "stream",
     "text": [
      " 42%|████▏     | 22742/54800 [1:02:00<13:32, 39.46it/s]  "
     ]
    },
    {
     "name": "stdout",
     "output_type": "stream",
     "text": [
      "Epoch loss :  1.0061000921268715e-09\n",
      "Epoch accuracy :  1.0\n",
      "Test loss :  0.6929361770201111\n",
      "Test Acc :  0.9599184782608695\n"
     ]
    },
    {
     "name": "stderr",
     "output_type": "stream",
     "text": [
      " 42%|████▏     | 23015/54800 [1:02:55<1:28:47,  5.97it/s]"
     ]
    },
    {
     "name": "stdout",
     "output_type": "stream",
     "text": [
      "Epoch loss :  9.653122478163842e-10\n",
      "Epoch accuracy :  1.0\n",
      "Test loss :  0.7503113179989696\n",
      "Test Acc :  0.9572010869565217\n",
      "Patience Counter :  1\n"
     ]
    },
    {
     "name": "stderr",
     "output_type": "stream",
     "text": [
      " 42%|████▏     | 23285/54800 [1:03:09<15:20, 34.24it/s]  "
     ]
    },
    {
     "name": "stdout",
     "output_type": "stream",
     "text": [
      "Epoch loss :  9.109284697191458e-10\n",
      "Epoch accuracy :  1.0\n",
      "Test loss :  0.7528021848636696\n",
      "Test Acc :  0.9578804347826086\n",
      "Patience Counter :  2\n"
     ]
    },
    {
     "name": "stderr",
     "output_type": "stream",
     "text": [
      " 43%|████▎     | 23559/54800 [1:03:53<1:02:42,  8.30it/s]"
     ]
    },
    {
     "name": "stdout",
     "output_type": "stream",
     "text": [
      "Epoch loss :  8.565446989153434e-10\n",
      "Epoch accuracy :  1.0\n",
      "Test loss :  0.7514046790792627\n",
      "Test Acc :  0.9578804347826086\n",
      "Patience Counter :  3\n"
     ]
    },
    {
     "name": "stderr",
     "output_type": "stream",
     "text": [
      " 44%|████▎     | 23838/54800 [1:04:06<13:27, 38.35it/s]  "
     ]
    },
    {
     "name": "stdout",
     "output_type": "stream",
     "text": [
      "Epoch loss :  8.293528175653509e-10\n",
      "Epoch accuracy :  1.0\n",
      "Test loss :  0.7520462646714572\n",
      "Test Acc :  0.9578804347826086\n",
      "Patience Counter :  4\n"
     ]
    },
    {
     "name": "stderr",
     "output_type": "stream",
     "text": [
      " 44%|████▍     | 24110/54800 [1:04:20<16:34, 30.87it/s]  "
     ]
    },
    {
     "name": "stdout",
     "output_type": "stream",
     "text": [
      "Epoch loss :  8.293528118926785e-10\n",
      "Epoch accuracy :  1.0\n",
      "Test loss :  0.7157643658481645\n",
      "Test Acc :  0.9592391304347826\n",
      "Patience Counter :  5\n"
     ]
    },
    {
     "name": "stderr",
     "output_type": "stream",
     "text": [
      " 44%|████▍     | 24386/54800 [1:05:09<1:14:03,  6.84it/s]"
     ]
    },
    {
     "name": "stdout",
     "output_type": "stream",
     "text": [
      "Epoch loss :  7.477771257028494e-10\n",
      "Epoch accuracy :  1.0\n"
     ]
    }
   ],
   "source": [
    "model_storage_path = \"/data4/home/hrishikeshj/DLNLP/ADRLA3/FineTunedModels/FT10Perc.pt\"\n",
    "progress_bar = tqdm(range(fine_tune_epochs*len(subset_dataloader)))\n",
    "best_test_acc = 0.0\n",
    "best_epoch = 0\n",
    "patience_counter = 0\n",
    "for epoch in range(fine_tune_epochs):\n",
    "\n",
    "    # Freeze the encoder, train classification head\n",
    "    query_encoder.eval()\n",
    "    run_loss = 0.0\n",
    "    run_acc = 0.0\n",
    "\n",
    "    \n",
    "\n",
    "    for i, (inputs, target) in enumerate(subset_dataloader):\n",
    "\n",
    "        inputs = inputs.to(device)\n",
    "        target = target.to(device)\n",
    "\n",
    "        # Forward pass\n",
    "        optimiser.zero_grad()\n",
    "\n",
    "        # Do not compute the gradients for the frozen encoder\n",
    "        output = query_encoder(inputs)\n",
    "\n",
    "        # Take pretrained encoder representations\n",
    "        loss = criterion(output, target)\n",
    "\n",
    "        loss.backward()\n",
    "\n",
    "        optimiser.step()\n",
    "\n",
    "        run_loss += loss.item()\n",
    "\n",
    "        predicted = output.argmax(1)\n",
    "\n",
    "        acc = (predicted == target).sum().item() / target.size(0)\n",
    "\n",
    "        run_acc += acc\n",
    "\n",
    "        progress_bar.update(1)\n",
    "\n",
    "    epoch_finetune_loss = run_loss / len(subset_dataloader)  # sample_count\n",
    "\n",
    "    epoch_finetune_acc = run_acc / len(subset_dataloader)\n",
    "\n",
    "    ''' Update Schedulers '''\n",
    "    # Decay lr with CosineAnnealingLR\n",
    "    lr_decay.step()\n",
    "\n",
    "    ''' Printing '''\n",
    "    print(\"Epoch loss : \",epoch_finetune_loss)\n",
    "    print(\"Epoch accuracy : \",epoch_finetune_acc)\n",
    "\n",
    "    test_valid_loss, test_valid_acc = evaluate(query_encoder, test_dataloader)\n",
    "\n",
    "    if test_valid_acc>best_test_acc:\n",
    "        patience_counter = 0\n",
    "        best_test_acc = test_valid_acc\n",
    "        best_epoch = epoch + 1\n",
    "        torch.save(query_encoder.state_dict(),model_storage_path)\n",
    "    else:\n",
    "        patience_counter += 1\n",
    "        if patience_counter>=patience:\n",
    "            print(\"Stopping early as no improvement since 20 epochs\")\n",
    "            break\n",
    "        else:\n",
    "            print(\"Patience Counter : \",patience_counter)\n",
    "\n",
    "    \n",
    "    epoch_finetune_loss = None  # reset loss\n",
    "    epoch_finetune_acc = None\n",
    "\n",
    "    torch.cuda.empty_cache()\n",
    "\n",
    "print(\"Best Epoch : \",best_epoch)\n",
    "print(\"Best test Accuracy : \",best_test_acc)\n"
   ]
  },
  {
   "cell_type": "code",
   "execution_count": null,
   "metadata": {},
   "outputs": [
    {
     "data": {
      "text/plain": [
       "29"
      ]
     },
     "execution_count": 25,
     "metadata": {},
     "output_type": "execute_result"
    }
   ],
   "source": [
    "best_epoch"
   ]
  },
  {
   "cell_type": "code",
   "execution_count": null,
   "metadata": {},
   "outputs": [
    {
     "data": {
      "text/plain": [
       "20"
      ]
     },
     "execution_count": 26,
     "metadata": {},
     "output_type": "execute_result"
    }
   ],
   "source": [
    "patience_counter"
   ]
  },
  {
   "cell_type": "code",
   "execution_count": null,
   "metadata": {},
   "outputs": [
    {
     "name": "stdout",
     "output_type": "stream",
     "text": [
      "Test loss :  1.0130133652836895\n",
      "Test Acc :  0.9123641304347826\n"
     ]
    },
    {
     "data": {
      "text/plain": [
       "(1.0130133652836895, 0.9123641304347826)"
      ]
     },
     "execution_count": 27,
     "metadata": {},
     "output_type": "execute_result"
    },
    {
     "name": "stderr",
     "output_type": "stream",
     "text": [
      " 49%|████▉     | 6713/13700 [10:20<02:43, 42.69it/s]"
     ]
    }
   ],
   "source": [
    "evaluate(query_encoder,test_dataloader)"
   ]
  },
  {
   "cell_type": "code",
   "execution_count": null,
   "metadata": {},
   "outputs": [],
   "source": []
  }
 ],
 "metadata": {
  "kernelspec": {
   "display_name": "envForDLNLP",
   "language": "python",
   "name": "python3"
  },
  "language_info": {
   "codemirror_mode": {
    "name": "ipython",
    "version": 3
   },
   "file_extension": ".py",
   "mimetype": "text/x-python",
   "name": "python",
   "nbconvert_exporter": "python",
   "pygments_lexer": "ipython3",
   "version": "3.8.10"
  }
 },
 "nbformat": 4,
 "nbformat_minor": 2
}