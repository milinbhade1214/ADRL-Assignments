{
 "cells": [
  {
   "cell_type": "markdown",
   "metadata": {},
   "source": [
    "# Question 2\n",
    "\n",
    "Goal:- \n",
    "1. Implement Self-supervised learning using Momentum Con-trast Encoder method (MoCO). \n",
    "2. Try 3 Augmentations on the images\n",
    "3. Im-plement a linear classifier on the learnt representations.\n",
    "4. Compare it witha full-blown CNN\n",
    "5. Record the reduction in the supervised data needed"
   ]
  },
  {
   "cell_type": "markdown",
   "metadata": {},
   "source": [
    "# Part 1 : Pretraining"
   ]
  },
  {
   "cell_type": "code",
   "execution_count": null,
   "metadata": {},
   "outputs": [],
   "source": [
    "import argparse\n",
    "import os\n",
    "import random\n",
    "import torch\n",
    "import torch.nn as nn\n",
    "import torch.nn.parallel\n",
    "import torch.optim as optim\n",
    "import torch.utils.data\n",
    "import torchvision.datasets as dset\n",
    "import torchvision.transforms as transforms\n",
    "import torchvision.utils as vutils\n",
    "import numpy as np\n",
    "import matplotlib.pyplot as plt\n",
    "import matplotlib.animation as animation\n",
    "from IPython.display import HTML\n",
    "from tqdm.auto import tqdm\n",
    "import torch.nn.functional as F\n",
    "import Models.Network as models\n",
    "from torchsummary import summary\n",
    "import random"
   ]
  },
  {
   "cell_type": "code",
   "execution_count": null,
   "metadata": {},
   "outputs": [],
   "source": [
    "# Loading Dataset\n",
    "\n",
    "dataroot = r\"/data4/home/hrishikeshj/DLNLP/ADRLA2/Dataset/train\"\n",
    "image_size = 128\n",
    "batch_size = 64\n",
    "\n",
    "dataset = dset.ImageFolder(root=dataroot,\n",
    "                           transform=transforms.Compose([\n",
    "                               transforms.Resize(image_size),\n",
    "                               transforms.ToTensor(),\n",
    "                               transforms.Normalize((0.5, 0.5, 0.5), (0.5, 0.5, 0.5)),\n",
    "                           ]))\n",
    "\n",
    "dataloader = torch.utils.data.DataLoader(dataset, batch_size=batch_size,\n",
    "                                         shuffle=True, num_workers=8, drop_last=True)"
   ]
  },
  {
   "cell_type": "code",
   "execution_count": null,
   "metadata": {},
   "outputs": [],
   "source": [
    "# Hyper parameters\n",
    "dim_of_emb = 128\n",
    "device_to_use = 1"
   ]
  },
  {
   "cell_type": "code",
   "execution_count": null,
   "metadata": {},
   "outputs": [],
   "source": [
    "# Resnet Implementation taken from pytorch\n",
    "\n",
    "def conv3x3(in_planes, out_planes, stride=1, groups=1, dilation=1):\n",
    "    return nn.Conv2d(in_planes, out_planes, kernel_size=3, stride=stride,\n",
    "                     padding=dilation, groups=groups, bias=False, dilation=dilation)\n",
    "\n",
    "\n",
    "def conv1x1(in_planes, out_planes, stride=1):\n",
    "    return nn.Conv2d(in_planes, out_planes, kernel_size=1, stride=stride, bias=False)\n",
    "\n",
    "class BasicBlock(nn.Module):\n",
    "    expansion = 1\n",
    "\n",
    "    def __init__(self, inplanes, planes, stride=1, downsample=None, groups=1,\n",
    "                 base_width=64, dilation=1, norm_layer=None):\n",
    "        super(BasicBlock, self).__init__()\n",
    "        if norm_layer is None:\n",
    "            norm_layer = nn.BatchNorm2d\n",
    "        if groups != 1 or base_width != 64:\n",
    "            raise ValueError('BasicBlock only supports groups=1 and base_width=64')\n",
    "        if dilation > 1:\n",
    "            raise NotImplementedError(\"Dilation > 1 not supported in BasicBlock\")\n",
    "        # Both self.conv1 and self.downsample layers downsample the input when stride != 1\n",
    "        self.conv1 = conv3x3(inplanes, planes, stride)\n",
    "        self.bn1 = norm_layer(planes)\n",
    "        self.relu = nn.ReLU(inplace=True)\n",
    "        self.conv2 = conv3x3(planes, planes)\n",
    "        self.bn2 = norm_layer(planes)\n",
    "        self.downsample = downsample\n",
    "        self.stride = stride\n",
    "\n",
    "    def forward(self, x):\n",
    "        identity = x\n",
    "\n",
    "        out = self.conv1(x)\n",
    "        out = self.bn1(out)\n",
    "        out = self.relu(out)\n",
    "\n",
    "        out = self.conv2(out)\n",
    "        out = self.bn2(out)\n",
    "\n",
    "        if self.downsample is not None:\n",
    "            identity = self.downsample(x)\n",
    "\n",
    "        out += identity\n",
    "        out = self.relu(out)\n",
    "\n",
    "        return out\n",
    "\n",
    "\n",
    "class projection_MLP(nn.Module):\n",
    "    def __init__(self):\n",
    "        super(projection_MLP, self).__init__()\n",
    "\n",
    "        n_channels = 512\n",
    "\n",
    "        self.projection_head = nn.Sequential()\n",
    "\n",
    "        self.projection_head.add_module('W1', nn.Linear(\n",
    "            n_channels, n_channels))\n",
    "        self.projection_head.add_module('ReLU', nn.ReLU())\n",
    "        self.projection_head.add_module('W2', nn.Linear(\n",
    "            n_channels, 128))\n",
    "\n",
    "    def forward(self, x):\n",
    "        return self.projection_head(x)\n",
    "\n",
    "class ResNet(nn.Module):\n",
    "    def __init__(self, block, layers, num_classes=128, zero_init_residual=False,\n",
    "                 groups=1, width_per_group=64):\n",
    "        super(ResNet, self).__init__()\n",
    "        \n",
    "        self._norm_layer = nn.BatchNorm2d\n",
    "\n",
    "        self.register_buffer\n",
    "\n",
    "        self.inplanes = 64\n",
    "        self.dilation = 1\n",
    "        \n",
    "        self.groups = groups\n",
    "        self.base_width = width_per_group\n",
    "\n",
    "        self.conv1 = nn.Conv2d(3, self.inplanes, kernel_size=7, stride=2, padding=3,\n",
    "                                   bias=False)\n",
    "\n",
    "        self.maxpool = nn.MaxPool2d(kernel_size=3, stride=2, padding=1)\n",
    "\n",
    "            \n",
    "\n",
    "        self.bn1 = self._norm_layer(self.inplanes)\n",
    "        self.relu = nn.ReLU(inplace=True)\n",
    "\n",
    "        self.layer1 = self._make_layer(block, 64, layers[0])\n",
    "        self.layer2 = self._make_layer(block, 128, layers[1], stride=2)\n",
    "        self.layer3 = self._make_layer(block, 256, layers[2], stride=2)\n",
    "        self.layer4 = self._make_layer(block, 512, layers[3], stride=2)\n",
    "\n",
    "        self.avgpool = nn.AdaptiveAvgPool2d((1, 1))\n",
    "\n",
    "        self.fc = nn.Linear(512 * block.expansion,num_classes)\n",
    "\n",
    "        for m in self.modules():\n",
    "            if isinstance(m, nn.Conv2d):\n",
    "                nn.init.kaiming_normal_(m.weight, mode='fan_out', nonlinearity='relu')\n",
    "            elif isinstance(m, (nn.BatchNorm2d, nn.GroupNorm)):\n",
    "                nn.init.constant_(m.weight, 1)\n",
    "                nn.init.constant_(m.bias, 0)\n",
    "\n",
    "        # Zero-initialize the last BN in each residual branch,\n",
    "        # so that the residual branch starts with zeros, and each residual block behaves like an identity.\n",
    "        # This improves the model by 0.2~0.3% according to https://arxiv.org/abs/1706.02677\n",
    "        if zero_init_residual:\n",
    "            for m in self.modules():\n",
    "                # if isinstance(m, Bottleneck):\n",
    "                #     nn.init.constant_(m.bn3.weight, 0)\n",
    "                if isinstance(m, BasicBlock):\n",
    "                    nn.init.constant_(m.bn2.weight, 0)\n",
    "\n",
    "    def _make_layer(self, block, planes, blocks, stride=1, dilate=False):\n",
    "        norm_layer = self._norm_layer\n",
    "        downsample = None\n",
    "        previous_dilation = self.dilation\n",
    "        if dilate:\n",
    "            self.dilation *= stride\n",
    "            stride = 1\n",
    "        if stride != 1 or self.inplanes != planes * block.expansion:\n",
    "            downsample = nn.Sequential(\n",
    "                conv1x1(self.inplanes, planes * block.expansion, stride),\n",
    "                norm_layer(planes * block.expansion),\n",
    "            )\n",
    "\n",
    "        layers = []\n",
    "        layers.append(block(self.inplanes, planes, stride, downsample, self.groups,\n",
    "                            self.base_width, previous_dilation, norm_layer))\n",
    "        self.inplanes = planes * block.expansion\n",
    "        for _ in range(1, blocks):\n",
    "            layers.append(block(self.inplanes, planes, groups=self.groups,\n",
    "                                base_width=self.base_width, dilation=self.dilation,\n",
    "                                norm_layer=norm_layer))\n",
    "\n",
    "        return nn.Sequential(*layers)\n",
    "\n",
    "    def forward(self, x):\n",
    "        x = self.conv1(x)\n",
    "        x = self.bn1(x)\n",
    "        x = self.relu(x)\n",
    "\n",
    "        x = self.maxpool(x)\n",
    "\n",
    "        x = self.layer1(x)\n",
    "        x = self.layer2(x)\n",
    "        x = self.layer3(x)\n",
    "        x = self.layer4(x)\n",
    "\n",
    "        x = self.avgpool(x)\n",
    "\n",
    "        x = torch.flatten(x, 1)\n",
    "\n",
    "        x = self.fc(x)\n",
    "\n",
    "        return x"
   ]
  },
  {
   "cell_type": "code",
   "execution_count": null,
   "metadata": {},
   "outputs": [],
   "source": [
    "# Hyper parameters\n",
    "\n",
    "queue_size = 128*batch_size\n",
    "momentum = 0.999\n",
    "temperature = 0.07\n",
    "\n",
    "learning_rate = 0.03\n",
    "sgd_weight_decay = 0.0001\n",
    "sgd_momentum = 0.9\n",
    "num_epochs = 100"
   ]
  },
  {
   "cell_type": "code",
   "execution_count": null,
   "metadata": {},
   "outputs": [],
   "source": [
    "class MoCo_Model(nn.Module):\n",
    "    def __init__(self):\n",
    "        \n",
    "        super(MoCo_Model, self).__init__()\n",
    "\n",
    "        self.queue_size = queue_size\n",
    "        self.momentum = momentum\n",
    "        self.temperature = temperature\n",
    "\n",
    "        assert self.queue_size % batch_size == 0  # for simplicity\n",
    "\n",
    "        # Load model\n",
    "        self.query_encoder = ResNet(BasicBlock,[2,2,2,2],num_classes=dim_of_emb)\n",
    "        self.key_encoder = ResNet(BasicBlock,[2,2,2,2],num_classes=dim_of_emb)\n",
    "\n",
    "        self.query_encoder.fc = projection_MLP()\n",
    "        self.key_encoder.fc = projection_MLP()\n",
    "\n",
    "\n",
    "        # Initialize the key encoder to have the same values as query encoder\n",
    "        # Do not update the key encoder via gradient\n",
    "        for query_param, key_param in zip(self.query_encoder.parameters(), self.key_encoder.parameters()):\n",
    "            key_param.data.copy_(query_param.data)\n",
    "            key_param.requires_grad = False\n",
    "\n",
    "        # Create the queue to store negative samples\n",
    "        self.register_buffer(\"queue\", torch.randn(self.queue_size, dim_of_emb))\n",
    "\n",
    "        # Create pointer to store current position in the queue when enqueue and dequeue\n",
    "        self.register_buffer(\"queue_ptr\", torch.zeros(1, dtype=torch.long))\n",
    "\n",
    "    @torch.no_grad()\n",
    "    def momentum_update(self):\n",
    "        \n",
    "        # For each of the parameters in each encoder\n",
    "        for p_q, p_k in zip(self.query_encoder.parameters(), self.key_encoder.parameters()):\n",
    "            p_k.data = p_k.data * self.momentum + p_q.detach().data * (1. - self.momentum)\n",
    "\n",
    "    @torch.no_grad()\n",
    "    def shuffled_idx(self, batch_size):\n",
    "\n",
    "        # Generate shuffled indexes\n",
    "        shuffled_idxs = torch.randperm(batch_size).long().cuda()\n",
    "\n",
    "        reverse_idxs = torch.zeros(batch_size).long().cuda()\n",
    "\n",
    "        value = torch.arange(batch_size).long().cuda()\n",
    "\n",
    "        reverse_idxs.index_copy_(0, shuffled_idxs, value)\n",
    "\n",
    "        return shuffled_idxs, reverse_idxs\n",
    "\n",
    "    @torch.no_grad()\n",
    "    def update_queue(self, feat_k):\n",
    "\n",
    "        curr_BS = feat_k.size(0)\n",
    "\n",
    "        ptr = int(self.queue_ptr)\n",
    "\n",
    "        # replace the keys at ptr (dequeue and enqueue)\n",
    "        self.queue[ptr:ptr + curr_BS, :] = feat_k\n",
    "\n",
    "        # move pointer along to end of current batch\n",
    "        ptr = (ptr + curr_BS) % self.queue_size\n",
    "\n",
    "        # Store queue pointer as register_buffer\n",
    "        self.queue_ptr[0] = ptr\n",
    "\n",
    "    def InfoNCE_logits(self, f_q, f_k):\n",
    "\n",
    "        f_k = f_k.detach()\n",
    "\n",
    "        # Get queue from register_buffer\n",
    "        f_mem = self.queue.clone().detach()\n",
    "\n",
    "        # Normalize the feature representations\n",
    "        f_q = nn.functional.normalize(f_q, dim=1)\n",
    "        f_k = nn.functional.normalize(f_k, dim=1)\n",
    "        f_mem = nn.functional.normalize(f_mem, dim=1)\n",
    "\n",
    "        # Compute sim between positive views\n",
    "        pos = torch.bmm(f_q.view(f_q.size(0), 1, -1),\n",
    "                        f_k.view(f_k.size(0), -1, 1)).squeeze(-1)\n",
    "\n",
    "        # Compute sim between postive and all negatives in the memory\n",
    "        neg = torch.mm(f_q, f_mem.transpose(1, 0))\n",
    "\n",
    "        logits = torch.cat((pos, neg), dim=1)\n",
    "\n",
    "        logits /= self.temperature\n",
    "\n",
    "        # Create labels, first logit is postive, all others are negative\n",
    "        labels = torch.zeros(logits.shape[0], dtype=torch.long).cuda()\n",
    "\n",
    "        return logits, labels\n",
    "\n",
    "    def forward(self, x_q, x_k):\n",
    "\n",
    "        batch_size = x_q.size(0)\n",
    "\n",
    "        # Feature representations of the query view from the query encoder\n",
    "        feat_q = self.query_encoder(x_q)\n",
    "\n",
    "        # TODO: shuffle ids with distributed data parallel\n",
    "        # Get shuffled and reversed indexes for the current minibatch\n",
    "        shuffled_idxs, reverse_idxs = self.shuffled_idx(batch_size)\n",
    "\n",
    "        with torch.no_grad():\n",
    "            # Update the key encoder\n",
    "            self.momentum_update()\n",
    "\n",
    "            # Shuffle minibatch\n",
    "            x_k = x_k[shuffled_idxs]\n",
    "\n",
    "            # Feature representations of the shuffled key view from the key encoder\n",
    "            feat_k = self.key_encoder(x_k)\n",
    "\n",
    "            # reverse the shuffled samples to original position\n",
    "            feat_k = feat_k[reverse_idxs]\n",
    "\n",
    "        # Compute the logits for the InfoNCE contrastive loss.\n",
    "        logit, label = self.InfoNCE_logits(feat_q, feat_k)\n",
    "\n",
    "        # Update the queue/memory with the current key_encoder minibatch.\n",
    "        self.update_queue(feat_k)\n",
    "\n",
    "        return logit, label"
   ]
  },
  {
   "cell_type": "code",
   "execution_count": null,
   "metadata": {},
   "outputs": [],
   "source": [
    "mocoModel = MoCo_Model()\n",
    "\n",
    "torch.cuda.set_device(device_to_use)\n",
    "device = torch.device('cuda') if torch.cuda.is_available() else torch.device('cpu')\n",
    "\n",
    "mocoModel = mocoModel.to(device=device)"
   ]
  },
  {
   "cell_type": "code",
   "execution_count": null,
   "metadata": {},
   "outputs": [],
   "source": [
    "optimiser = torch.optim.SGD(mocoModel.parameters(), lr=learning_rate, weight_decay=sgd_weight_decay, momentum=sgd_momentum)\n",
    "lr_decay = torch.optim.lr_scheduler.CosineAnnealingLR(optimiser, num_epochs)\n",
    "criterion = nn.CrossEntropyLoss()\n",
    "criterion = criterion.to(device)"
   ]
  },
  {
   "cell_type": "code",
   "execution_count": null,
   "metadata": {},
   "outputs": [],
   "source": [
    "augmentation = [\n",
    "            transforms.RandomGrayscale(p=0.2),\n",
    "            transforms.ColorJitter(0.4, 0.4, 0.4, 0.4),\n",
    "            transforms.RandomHorizontalFlip(),\n",
    "            transforms.Normalize(\n",
    "        mean=[0.485, 0.456, 0.406], std=[0.229, 0.224, 0.225]),\n",
    "        ]\n",
    "\n",
    "augTransform = transforms.Compose(augmentation)"
   ]
  },
  {
   "cell_type": "code",
   "execution_count": null,
   "metadata": {},
   "outputs": [
    {
     "name": "stderr",
     "output_type": "stream",
     "text": [
      "  0%|          | 3/22800 [00:33<54:33:09,  8.61s/it] "
     ]
    },
    {
     "name": "stdout",
     "output_type": "stream",
     "text": [
      "Pretrain_loss :  0.02857186272740364\n"
     ]
    },
    {
     "name": "stderr",
     "output_type": "stream",
     "text": [
      "  1%|          | 230/22800 [02:23<2:03:29,  3.05it/s]"
     ]
    },
    {
     "name": "stdout",
     "output_type": "stream",
     "text": [
      "Pretrain_loss :  5.432933807373047\n"
     ]
    },
    {
     "name": "stderr",
     "output_type": "stream",
     "text": [
      "  2%|▏         | 456/22800 [02:42<29:20, 12.69it/s]  "
     ]
    },
    {
     "name": "stdout",
     "output_type": "stream",
     "text": [
      "Pretrain_loss :  4.812164306640625\n"
     ]
    },
    {
     "name": "stderr",
     "output_type": "stream",
     "text": [
      "  3%|▎         | 688/22800 [03:28<2:04:57,  2.95it/s]"
     ]
    },
    {
     "name": "stdout",
     "output_type": "stream",
     "text": [
      "Pretrain_loss :  3.1110713481903076\n"
     ]
    },
    {
     "name": "stderr",
     "output_type": "stream",
     "text": [
      "  4%|▍         | 916/22800 [04:13<1:27:14,  4.18it/s]"
     ]
    },
    {
     "name": "stdout",
     "output_type": "stream",
     "text": [
      "Pretrain_loss :  2.9676005840301514\n"
     ]
    },
    {
     "name": "stderr",
     "output_type": "stream",
     "text": [
      "  5%|▌         | 1143/22800 [04:24<45:57,  7.85it/s] "
     ]
    },
    {
     "name": "stdout",
     "output_type": "stream",
     "text": [
      "Pretrain_loss :  2.0683467388153076\n"
     ]
    },
    {
     "name": "stderr",
     "output_type": "stream",
     "text": [
      "  6%|▌         | 1373/22800 [04:38<1:11:56,  4.96it/s]"
     ]
    },
    {
     "name": "stdout",
     "output_type": "stream",
     "text": [
      "Pretrain_loss :  1.715352177619934\n"
     ]
    },
    {
     "name": "stderr",
     "output_type": "stream",
     "text": [
      "  7%|▋         | 1601/22800 [04:53<36:35,  9.66it/s]  "
     ]
    },
    {
     "name": "stdout",
     "output_type": "stream",
     "text": [
      "Pretrain_loss :  1.6454323530197144\n"
     ]
    },
    {
     "name": "stderr",
     "output_type": "stream",
     "text": [
      "  8%|▊         | 1825/22800 [05:38<2:04:50,  2.80it/s]"
     ]
    },
    {
     "name": "stdout",
     "output_type": "stream",
     "text": [
      "Pretrain_loss :  1.3108285665512085\n"
     ]
    },
    {
     "name": "stderr",
     "output_type": "stream",
     "text": [
      "  9%|▉         | 2053/22800 [06:21<2:16:53,  2.53it/s]"
     ]
    },
    {
     "name": "stdout",
     "output_type": "stream",
     "text": [
      "Pretrain_loss :  1.1967517137527466\n"
     ]
    },
    {
     "name": "stderr",
     "output_type": "stream",
     "text": [
      " 10%|█         | 2284/22800 [07:08<1:28:18,  3.87it/s]"
     ]
    },
    {
     "name": "stdout",
     "output_type": "stream",
     "text": [
      "Pretrain_loss :  1.2320719957351685\n"
     ]
    },
    {
     "name": "stderr",
     "output_type": "stream",
     "text": [
      " 11%|█         | 2511/22800 [07:51<1:03:24,  5.33it/s]"
     ]
    },
    {
     "name": "stdout",
     "output_type": "stream",
     "text": [
      "Pretrain_loss :  0.9905940890312195\n"
     ]
    },
    {
     "name": "stderr",
     "output_type": "stream",
     "text": [
      " 12%|█▏        | 2742/22800 [08:03<34:35,  9.66it/s]  "
     ]
    },
    {
     "name": "stdout",
     "output_type": "stream",
     "text": [
      "Pretrain_loss :  1.044512391090393\n"
     ]
    },
    {
     "name": "stderr",
     "output_type": "stream",
     "text": [
      " 13%|█▎        | 2968/22800 [08:16<44:31,  7.42it/s]"
     ]
    },
    {
     "name": "stdout",
     "output_type": "stream",
     "text": [
      "Pretrain_loss :  1.212280511856079\n"
     ]
    },
    {
     "name": "stderr",
     "output_type": "stream",
     "text": [
      " 14%|█▍        | 3195/22800 [09:00<1:58:22,  2.76it/s]"
     ]
    },
    {
     "name": "stdout",
     "output_type": "stream",
     "text": [
      "Pretrain_loss :  0.9807380437850952\n"
     ]
    },
    {
     "name": "stderr",
     "output_type": "stream",
     "text": [
      " 15%|█▌        | 3423/22800 [09:44<1:26:57,  3.71it/s]"
     ]
    },
    {
     "name": "stdout",
     "output_type": "stream",
     "text": [
      "Pretrain_loss :  0.6864845156669617\n"
     ]
    },
    {
     "name": "stderr",
     "output_type": "stream",
     "text": [
      " 16%|█▌        | 3649/22800 [10:04<1:06:00,  4.84it/s]"
     ]
    },
    {
     "name": "stdout",
     "output_type": "stream",
     "text": [
      "Pretrain_loss :  0.7475559711456299\n"
     ]
    },
    {
     "name": "stderr",
     "output_type": "stream",
     "text": [
      " 17%|█▋        | 3880/22800 [10:53<1:49:37,  2.88it/s]"
     ]
    },
    {
     "name": "stdout",
     "output_type": "stream",
     "text": [
      "Pretrain_loss :  0.7188102602958679\n"
     ]
    },
    {
     "name": "stderr",
     "output_type": "stream",
     "text": [
      " 18%|█▊        | 4109/22800 [11:36<1:05:31,  4.75it/s]"
     ]
    },
    {
     "name": "stdout",
     "output_type": "stream",
     "text": [
      "Pretrain_loss :  0.6822733283042908\n"
     ]
    },
    {
     "name": "stderr",
     "output_type": "stream",
     "text": [
      " 19%|█▉        | 4337/22800 [11:48<34:12,  9.00it/s]  "
     ]
    },
    {
     "name": "stdout",
     "output_type": "stream",
     "text": [
      "Pretrain_loss :  0.6863484382629395\n"
     ]
    },
    {
     "name": "stderr",
     "output_type": "stream",
     "text": [
      " 20%|██        | 4565/22800 [12:00<38:00,  8.00it/s]"
     ]
    },
    {
     "name": "stdout",
     "output_type": "stream",
     "text": [
      "Pretrain_loss :  0.5740864276885986\n"
     ]
    },
    {
     "name": "stderr",
     "output_type": "stream",
     "text": [
      " 21%|██        | 4791/22800 [12:12<39:08,  7.67it/s]"
     ]
    },
    {
     "name": "stdout",
     "output_type": "stream",
     "text": [
      "Pretrain_loss :  0.5262278914451599\n"
     ]
    },
    {
     "name": "stderr",
     "output_type": "stream",
     "text": [
      " 22%|██▏       | 5017/22800 [12:23<38:02,  7.79it/s]"
     ]
    },
    {
     "name": "stdout",
     "output_type": "stream",
     "text": [
      "Pretrain_loss :  0.5228994488716125\n"
     ]
    },
    {
     "name": "stderr",
     "output_type": "stream",
     "text": [
      " 23%|██▎       | 5247/22800 [13:06<2:24:42,  2.02it/s]"
     ]
    },
    {
     "name": "stdout",
     "output_type": "stream",
     "text": [
      "Pretrain_loss :  0.8031159043312073\n"
     ]
    },
    {
     "name": "stderr",
     "output_type": "stream",
     "text": [
      " 24%|██▍       | 5475/22800 [13:48<1:23:33,  3.46it/s]"
     ]
    },
    {
     "name": "stdout",
     "output_type": "stream",
     "text": [
      "Pretrain_loss :  0.5473595857620239\n"
     ]
    },
    {
     "name": "stderr",
     "output_type": "stream",
     "text": [
      " 25%|██▌       | 5703/22800 [14:28<1:16:52,  3.71it/s]"
     ]
    },
    {
     "name": "stdout",
     "output_type": "stream",
     "text": [
      "Pretrain_loss :  0.5799432992935181\n"
     ]
    },
    {
     "name": "stderr",
     "output_type": "stream",
     "text": [
      " 26%|██▌       | 5932/22800 [14:44<59:14,  4.75it/s]  "
     ]
    },
    {
     "name": "stdout",
     "output_type": "stream",
     "text": [
      "Pretrain_loss :  0.5977439284324646\n"
     ]
    },
    {
     "name": "stderr",
     "output_type": "stream",
     "text": [
      " 27%|██▋       | 6161/22800 [15:27<1:00:23,  4.59it/s]"
     ]
    },
    {
     "name": "stdout",
     "output_type": "stream",
     "text": [
      "Pretrain_loss :  0.4535023272037506\n"
     ]
    },
    {
     "name": "stderr",
     "output_type": "stream",
     "text": [
      " 28%|██▊       | 6387/22800 [15:58<1:11:02,  3.85it/s]"
     ]
    },
    {
     "name": "stdout",
     "output_type": "stream",
     "text": [
      "Pretrain_loss :  0.6267112493515015\n"
     ]
    },
    {
     "name": "stderr",
     "output_type": "stream",
     "text": [
      " 29%|██▉       | 6615/22800 [16:18<50:07,  5.38it/s]  "
     ]
    },
    {
     "name": "stdout",
     "output_type": "stream",
     "text": [
      "Pretrain_loss :  0.3857680857181549\n"
     ]
    },
    {
     "name": "stderr",
     "output_type": "stream",
     "text": [
      " 30%|███       | 6842/22800 [16:38<52:49,  5.04it/s]"
     ]
    },
    {
     "name": "stdout",
     "output_type": "stream",
     "text": [
      "Pretrain_loss :  0.43619000911712646\n"
     ]
    },
    {
     "name": "stderr",
     "output_type": "stream",
     "text": [
      " 31%|███       | 7070/22800 [16:57<51:28,  5.09it/s]"
     ]
    },
    {
     "name": "stdout",
     "output_type": "stream",
     "text": [
      "Pretrain_loss :  0.45538416504859924\n"
     ]
    },
    {
     "name": "stderr",
     "output_type": "stream",
     "text": [
      " 32%|███▏      | 7299/22800 [17:15<28:24,  9.10it/s]"
     ]
    },
    {
     "name": "stdout",
     "output_type": "stream",
     "text": [
      "Pretrain_loss :  0.4143941104412079\n"
     ]
    },
    {
     "name": "stderr",
     "output_type": "stream",
     "text": [
      " 33%|███▎      | 7526/22800 [17:29<1:11:23,  3.57it/s]"
     ]
    },
    {
     "name": "stdout",
     "output_type": "stream",
     "text": [
      "Pretrain_loss :  0.3596288561820984\n"
     ]
    },
    {
     "name": "stderr",
     "output_type": "stream",
     "text": [
      " 34%|███▍      | 7753/22800 [18:13<1:31:06,  2.75it/s]"
     ]
    },
    {
     "name": "stdout",
     "output_type": "stream",
     "text": [
      "Pretrain_loss :  0.5080121755599976\n"
     ]
    },
    {
     "name": "stderr",
     "output_type": "stream",
     "text": [
      " 35%|███▌      | 7985/22800 [18:48<31:51,  7.75it/s]  "
     ]
    },
    {
     "name": "stdout",
     "output_type": "stream",
     "text": [
      "Pretrain_loss :  0.3400283455848694\n"
     ]
    },
    {
     "name": "stderr",
     "output_type": "stream",
     "text": [
      " 36%|███▌      | 8214/22800 [19:00<25:58,  9.36it/s]"
     ]
    },
    {
     "name": "stdout",
     "output_type": "stream",
     "text": [
      "Pretrain_loss :  0.4514525830745697\n"
     ]
    },
    {
     "name": "stderr",
     "output_type": "stream",
     "text": [
      " 37%|███▋      | 8439/22800 [19:11<33:14,  7.20it/s]"
     ]
    },
    {
     "name": "stdout",
     "output_type": "stream",
     "text": [
      "Pretrain_loss :  0.42034757137298584\n"
     ]
    },
    {
     "name": "stderr",
     "output_type": "stream",
     "text": [
      " 38%|███▊      | 8667/22800 [19:23<34:01,  6.92it/s]"
     ]
    },
    {
     "name": "stdout",
     "output_type": "stream",
     "text": [
      "Pretrain_loss :  0.45257025957107544\n"
     ]
    },
    {
     "name": "stderr",
     "output_type": "stream",
     "text": [
      " 39%|███▉      | 8894/22800 [19:37<48:38,  4.76it/s]"
     ]
    },
    {
     "name": "stdout",
     "output_type": "stream",
     "text": [
      "Pretrain_loss :  0.37456637620925903\n"
     ]
    },
    {
     "name": "stderr",
     "output_type": "stream",
     "text": [
      " 40%|████      | 9123/22800 [20:25<2:03:45,  1.84it/s]"
     ]
    },
    {
     "name": "stdout",
     "output_type": "stream",
     "text": [
      "Pretrain_loss :  0.34982964396476746\n"
     ]
    },
    {
     "name": "stderr",
     "output_type": "stream",
     "text": [
      " 41%|████      | 9352/22800 [21:06<57:28,  3.90it/s]  "
     ]
    },
    {
     "name": "stdout",
     "output_type": "stream",
     "text": [
      "Pretrain_loss :  0.33774200081825256\n"
     ]
    },
    {
     "name": "stderr",
     "output_type": "stream",
     "text": [
      " 42%|████▏     | 9578/22800 [21:42<1:13:27,  3.00it/s]"
     ]
    },
    {
     "name": "stdout",
     "output_type": "stream",
     "text": [
      "Pretrain_loss :  0.2659962773323059\n"
     ]
    },
    {
     "name": "stderr",
     "output_type": "stream",
     "text": [
      " 43%|████▎     | 9807/22800 [21:58<59:56,  3.61it/s]  "
     ]
    },
    {
     "name": "stdout",
     "output_type": "stream",
     "text": [
      "Pretrain_loss :  0.30895504355430603\n"
     ]
    },
    {
     "name": "stderr",
     "output_type": "stream",
     "text": [
      " 44%|████▍     | 10033/22800 [22:39<58:38,  3.63it/s]"
     ]
    },
    {
     "name": "stdout",
     "output_type": "stream",
     "text": [
      "Pretrain_loss :  0.27158981561660767\n"
     ]
    },
    {
     "name": "stderr",
     "output_type": "stream",
     "text": [
      " 45%|████▌     | 10263/22800 [23:27<1:49:31,  1.91it/s]"
     ]
    },
    {
     "name": "stdout",
     "output_type": "stream",
     "text": [
      "Pretrain_loss :  0.38778960704803467\n"
     ]
    },
    {
     "name": "stderr",
     "output_type": "stream",
     "text": [
      " 46%|████▌     | 10493/22800 [23:45<24:10,  8.48it/s]  "
     ]
    },
    {
     "name": "stdout",
     "output_type": "stream",
     "text": [
      "Pretrain_loss :  0.35142460465431213\n"
     ]
    },
    {
     "name": "stderr",
     "output_type": "stream",
     "text": [
      " 47%|████▋     | 10721/22800 [23:57<22:24,  8.99it/s]"
     ]
    },
    {
     "name": "stdout",
     "output_type": "stream",
     "text": [
      "Pretrain_loss :  0.3041897416114807\n"
     ]
    },
    {
     "name": "stderr",
     "output_type": "stream",
     "text": [
      " 48%|████▊     | 10946/22800 [24:08<23:49,  8.29it/s]"
     ]
    },
    {
     "name": "stdout",
     "output_type": "stream",
     "text": [
      "Pretrain_loss :  0.2734185755252838\n"
     ]
    },
    {
     "name": "stderr",
     "output_type": "stream",
     "text": [
      " 49%|████▉     | 11179/22800 [24:22<29:40,  6.53it/s]"
     ]
    },
    {
     "name": "stdout",
     "output_type": "stream",
     "text": [
      "Pretrain_loss :  0.2829796075820923\n"
     ]
    },
    {
     "name": "stderr",
     "output_type": "stream",
     "text": [
      " 50%|█████     | 11402/22800 [25:06<57:53,  3.28it/s]"
     ]
    },
    {
     "name": "stdout",
     "output_type": "stream",
     "text": [
      "Pretrain_loss :  0.30676722526550293\n"
     ]
    },
    {
     "name": "stderr",
     "output_type": "stream",
     "text": [
      " 51%|█████     | 11632/22800 [25:18<19:57,  9.33it/s]"
     ]
    },
    {
     "name": "stdout",
     "output_type": "stream",
     "text": [
      "Pretrain_loss :  0.34706705808639526\n"
     ]
    },
    {
     "name": "stderr",
     "output_type": "stream",
     "text": [
      " 52%|█████▏    | 11862/22800 [25:30<26:44,  6.82it/s]"
     ]
    },
    {
     "name": "stdout",
     "output_type": "stream",
     "text": [
      "Pretrain_loss :  0.264839768409729\n"
     ]
    },
    {
     "name": "stderr",
     "output_type": "stream",
     "text": [
      " 53%|█████▎    | 12089/22800 [25:43<37:26,  4.77it/s]"
     ]
    },
    {
     "name": "stdout",
     "output_type": "stream",
     "text": [
      "Pretrain_loss :  0.30805954337120056\n"
     ]
    },
    {
     "name": "stderr",
     "output_type": "stream",
     "text": [
      " 54%|█████▍    | 12315/22800 [26:28<44:19,  3.94it/s]"
     ]
    },
    {
     "name": "stdout",
     "output_type": "stream",
     "text": [
      "Pretrain_loss :  0.3121994435787201\n"
     ]
    },
    {
     "name": "stderr",
     "output_type": "stream",
     "text": [
      " 55%|█████▌    | 12542/22800 [26:47<29:43,  5.75it/s]"
     ]
    },
    {
     "name": "stdout",
     "output_type": "stream",
     "text": [
      "Pretrain_loss :  0.2698330283164978\n"
     ]
    },
    {
     "name": "stderr",
     "output_type": "stream",
     "text": [
      " 56%|█████▌    | 12769/22800 [27:30<51:44,  3.23it/s]"
     ]
    },
    {
     "name": "stdout",
     "output_type": "stream",
     "text": [
      "Pretrain_loss :  0.3213063180446625\n"
     ]
    },
    {
     "name": "stderr",
     "output_type": "stream",
     "text": [
      " 57%|█████▋    | 13002/22800 [27:42<17:26,  9.37it/s]"
     ]
    },
    {
     "name": "stdout",
     "output_type": "stream",
     "text": [
      "Pretrain_loss :  0.21232540905475616\n"
     ]
    },
    {
     "name": "stderr",
     "output_type": "stream",
     "text": [
      " 58%|█████▊    | 13228/22800 [27:54<17:25,  9.16it/s]"
     ]
    },
    {
     "name": "stdout",
     "output_type": "stream",
     "text": [
      "Pretrain_loss :  0.35268789529800415\n"
     ]
    },
    {
     "name": "stderr",
     "output_type": "stream",
     "text": [
      " 59%|█████▉    | 13455/22800 [28:06<17:44,  8.78it/s]"
     ]
    },
    {
     "name": "stdout",
     "output_type": "stream",
     "text": [
      "Pretrain_loss :  0.45303910970687866\n"
     ]
    },
    {
     "name": "stderr",
     "output_type": "stream",
     "text": [
      " 60%|██████    | 13683/22800 [28:17<16:23,  9.27it/s]"
     ]
    },
    {
     "name": "stdout",
     "output_type": "stream",
     "text": [
      "Pretrain_loss :  0.26786649227142334\n"
     ]
    },
    {
     "name": "stderr",
     "output_type": "stream",
     "text": [
      " 61%|██████    | 13911/22800 [28:30<19:10,  7.73it/s]"
     ]
    },
    {
     "name": "stdout",
     "output_type": "stream",
     "text": [
      "Pretrain_loss :  0.28472304344177246\n"
     ]
    },
    {
     "name": "stderr",
     "output_type": "stream",
     "text": [
      " 62%|██████▏   | 14140/22800 [28:44<31:57,  4.52it/s]"
     ]
    },
    {
     "name": "stdout",
     "output_type": "stream",
     "text": [
      "Pretrain_loss :  0.31563007831573486\n"
     ]
    },
    {
     "name": "stderr",
     "output_type": "stream",
     "text": [
      " 63%|██████▎   | 14366/22800 [29:30<45:08,  3.11it/s]"
     ]
    },
    {
     "name": "stdout",
     "output_type": "stream",
     "text": [
      "Pretrain_loss :  0.2795591950416565\n"
     ]
    },
    {
     "name": "stderr",
     "output_type": "stream",
     "text": [
      " 64%|██████▍   | 14594/22800 [29:52<54:05,  2.53it/s]  "
     ]
    },
    {
     "name": "stdout",
     "output_type": "stream",
     "text": [
      "Pretrain_loss :  0.24306200444698334\n"
     ]
    },
    {
     "name": "stderr",
     "output_type": "stream",
     "text": [
      " 65%|██████▌   | 14822/22800 [30:38<37:53,  3.51it/s]"
     ]
    },
    {
     "name": "stdout",
     "output_type": "stream",
     "text": [
      "Pretrain_loss :  0.19499675929546356\n"
     ]
    },
    {
     "name": "stderr",
     "output_type": "stream",
     "text": [
      " 66%|██████▌   | 15048/22800 [30:49<04:53, 26.38it/s]"
     ]
    },
    {
     "name": "stdout",
     "output_type": "stream",
     "text": [
      "Pretrain_loss :  0.3647770881652832\n"
     ]
    },
    {
     "name": "stderr",
     "output_type": "stream",
     "text": [
      " 67%|██████▋   | 15280/22800 [31:33<30:34,  4.10it/s]"
     ]
    },
    {
     "name": "stdout",
     "output_type": "stream",
     "text": [
      "Pretrain_loss :  0.2503824532032013\n"
     ]
    },
    {
     "name": "stderr",
     "output_type": "stream",
     "text": [
      " 68%|██████▊   | 15507/22800 [32:16<33:44,  3.60it/s]"
     ]
    },
    {
     "name": "stdout",
     "output_type": "stream",
     "text": [
      "Pretrain_loss :  0.2896762192249298\n"
     ]
    },
    {
     "name": "stderr",
     "output_type": "stream",
     "text": [
      " 69%|██████▉   | 15735/22800 [32:29<16:43,  7.04it/s]"
     ]
    },
    {
     "name": "stdout",
     "output_type": "stream",
     "text": [
      "Pretrain_loss :  0.3267640173435211\n"
     ]
    },
    {
     "name": "stderr",
     "output_type": "stream",
     "text": [
      " 70%|███████   | 15962/22800 [32:42<14:59,  7.60it/s]"
     ]
    },
    {
     "name": "stdout",
     "output_type": "stream",
     "text": [
      "Pretrain_loss :  0.3271937668323517\n"
     ]
    },
    {
     "name": "stderr",
     "output_type": "stream",
     "text": [
      " 71%|███████   | 16191/22800 [33:02<38:30,  2.86it/s]"
     ]
    },
    {
     "name": "stdout",
     "output_type": "stream",
     "text": [
      "Pretrain_loss :  0.2367960512638092\n"
     ]
    },
    {
     "name": "stderr",
     "output_type": "stream",
     "text": [
      " 72%|███████▏  | 16419/22800 [33:47<24:52,  4.27it/s]"
     ]
    },
    {
     "name": "stdout",
     "output_type": "stream",
     "text": [
      "Pretrain_loss :  0.20355947315692902\n"
     ]
    },
    {
     "name": "stderr",
     "output_type": "stream",
     "text": [
      " 73%|███████▎  | 16646/22800 [34:27<33:26,  3.07it/s]"
     ]
    },
    {
     "name": "stdout",
     "output_type": "stream",
     "text": [
      "Pretrain_loss :  0.2637384235858917\n"
     ]
    },
    {
     "name": "stderr",
     "output_type": "stream",
     "text": [
      " 74%|███████▍  | 16875/22800 [35:10<29:46,  3.32it/s]"
     ]
    },
    {
     "name": "stdout",
     "output_type": "stream",
     "text": [
      "Pretrain_loss :  0.24255460500717163\n"
     ]
    },
    {
     "name": "stderr",
     "output_type": "stream",
     "text": [
      " 75%|███████▌  | 17102/22800 [35:55<25:26,  3.73it/s]"
     ]
    },
    {
     "name": "stdout",
     "output_type": "stream",
     "text": [
      "Pretrain_loss :  0.2367638796567917\n"
     ]
    },
    {
     "name": "stderr",
     "output_type": "stream",
     "text": [
      " 76%|███████▌  | 17330/22800 [36:31<25:53,  3.52it/s]"
     ]
    },
    {
     "name": "stdout",
     "output_type": "stream",
     "text": [
      "Pretrain_loss :  0.27130815386772156\n"
     ]
    },
    {
     "name": "stderr",
     "output_type": "stream",
     "text": [
      " 77%|███████▋  | 17558/22800 [37:16<42:02,  2.08it/s]"
     ]
    },
    {
     "name": "stdout",
     "output_type": "stream",
     "text": [
      "Pretrain_loss :  0.2813325822353363\n"
     ]
    },
    {
     "name": "stderr",
     "output_type": "stream",
     "text": [
      " 78%|███████▊  | 17787/22800 [38:01<28:34,  2.92it/s]"
     ]
    },
    {
     "name": "stdout",
     "output_type": "stream",
     "text": [
      "Pretrain_loss :  0.24158549308776855\n"
     ]
    },
    {
     "name": "stderr",
     "output_type": "stream",
     "text": [
      " 79%|███████▉  | 18012/22800 [38:13<03:43, 21.41it/s]"
     ]
    },
    {
     "name": "stdout",
     "output_type": "stream",
     "text": [
      "Pretrain_loss :  0.26637107133865356\n"
     ]
    },
    {
     "name": "stderr",
     "output_type": "stream",
     "text": [
      " 80%|████████  | 18243/22800 [38:35<21:01,  3.61it/s]"
     ]
    },
    {
     "name": "stdout",
     "output_type": "stream",
     "text": [
      "Pretrain_loss :  0.27872592210769653\n"
     ]
    },
    {
     "name": "stderr",
     "output_type": "stream",
     "text": [
      " 81%|████████  | 18471/22800 [39:17<16:40,  4.32it/s]"
     ]
    },
    {
     "name": "stdout",
     "output_type": "stream",
     "text": [
      "Pretrain_loss :  0.33952081203460693\n"
     ]
    },
    {
     "name": "stderr",
     "output_type": "stream",
     "text": [
      " 82%|████████▏ | 18697/22800 [39:30<08:38,  7.92it/s]"
     ]
    },
    {
     "name": "stdout",
     "output_type": "stream",
     "text": [
      "Pretrain_loss :  0.33644068241119385\n"
     ]
    },
    {
     "name": "stderr",
     "output_type": "stream",
     "text": [
      " 83%|████████▎ | 18927/22800 [40:12<20:09,  3.20it/s]"
     ]
    },
    {
     "name": "stdout",
     "output_type": "stream",
     "text": [
      "Pretrain_loss :  0.2937498986721039\n"
     ]
    },
    {
     "name": "stderr",
     "output_type": "stream",
     "text": [
      " 84%|████████▍ | 19156/22800 [40:57<13:52,  4.38it/s]"
     ]
    },
    {
     "name": "stdout",
     "output_type": "stream",
     "text": [
      "Pretrain_loss :  0.22684931755065918\n"
     ]
    },
    {
     "name": "stderr",
     "output_type": "stream",
     "text": [
      " 85%|████████▌ | 19383/22800 [41:11<16:16,  3.50it/s]"
     ]
    },
    {
     "name": "stdout",
     "output_type": "stream",
     "text": [
      "Pretrain_loss :  0.24903248250484467\n"
     ]
    },
    {
     "name": "stderr",
     "output_type": "stream",
     "text": [
      " 86%|████████▌ | 19610/22800 [41:54<13:10,  4.03it/s]"
     ]
    },
    {
     "name": "stdout",
     "output_type": "stream",
     "text": [
      "Pretrain_loss :  0.31990760564804077\n"
     ]
    },
    {
     "name": "stderr",
     "output_type": "stream",
     "text": [
      " 87%|████████▋ | 19836/22800 [42:38<07:10,  6.88it/s]"
     ]
    },
    {
     "name": "stdout",
     "output_type": "stream",
     "text": [
      "Pretrain_loss :  0.2068905383348465\n"
     ]
    },
    {
     "name": "stderr",
     "output_type": "stream",
     "text": [
      " 88%|████████▊ | 20067/22800 [43:25<12:11,  3.74it/s]"
     ]
    },
    {
     "name": "stdout",
     "output_type": "stream",
     "text": [
      "Pretrain_loss :  0.23989754915237427\n"
     ]
    },
    {
     "name": "stderr",
     "output_type": "stream",
     "text": [
      " 89%|████████▉ | 20295/22800 [43:45<06:04,  6.87it/s]"
     ]
    },
    {
     "name": "stdout",
     "output_type": "stream",
     "text": [
      "Pretrain_loss :  0.3143938183784485\n"
     ]
    },
    {
     "name": "stderr",
     "output_type": "stream",
     "text": [
      " 90%|█████████ | 20523/22800 [43:57<05:12,  7.28it/s]"
     ]
    },
    {
     "name": "stdout",
     "output_type": "stream",
     "text": [
      "Pretrain_loss :  0.2616685628890991\n"
     ]
    },
    {
     "name": "stderr",
     "output_type": "stream",
     "text": [
      " 91%|█████████ | 20752/22800 [44:09<03:06, 10.98it/s]"
     ]
    },
    {
     "name": "stdout",
     "output_type": "stream",
     "text": [
      "Pretrain_loss :  0.223558709025383\n"
     ]
    },
    {
     "name": "stderr",
     "output_type": "stream",
     "text": [
      " 92%|█████████▏| 20982/22800 [44:20<03:14,  9.33it/s]"
     ]
    },
    {
     "name": "stdout",
     "output_type": "stream",
     "text": [
      "Pretrain_loss :  0.18972350656986237\n"
     ]
    },
    {
     "name": "stderr",
     "output_type": "stream",
     "text": [
      " 93%|█████████▎| 21205/22800 [44:32<03:17,  8.08it/s]"
     ]
    },
    {
     "name": "stdout",
     "output_type": "stream",
     "text": [
      "Pretrain_loss :  0.17588089406490326\n"
     ]
    },
    {
     "name": "stderr",
     "output_type": "stream",
     "text": [
      " 94%|█████████▍| 21437/22800 [45:16<05:58,  3.81it/s]"
     ]
    },
    {
     "name": "stdout",
     "output_type": "stream",
     "text": [
      "Pretrain_loss :  0.2660849094390869\n"
     ]
    },
    {
     "name": "stderr",
     "output_type": "stream",
     "text": [
      " 95%|█████████▌| 21664/22800 [46:00<03:53,  4.86it/s]"
     ]
    },
    {
     "name": "stdout",
     "output_type": "stream",
     "text": [
      "Pretrain_loss :  0.23346643149852753\n"
     ]
    },
    {
     "name": "stderr",
     "output_type": "stream",
     "text": [
      " 96%|█████████▌| 21890/22800 [46:19<04:29,  3.37it/s]"
     ]
    },
    {
     "name": "stdout",
     "output_type": "stream",
     "text": [
      "Pretrain_loss :  0.33552953600883484\n"
     ]
    },
    {
     "name": "stderr",
     "output_type": "stream",
     "text": [
      " 97%|█████████▋| 22119/22800 [46:42<03:31,  3.22it/s]"
     ]
    },
    {
     "name": "stdout",
     "output_type": "stream",
     "text": [
      "Pretrain_loss :  0.34154796600341797\n"
     ]
    },
    {
     "name": "stderr",
     "output_type": "stream",
     "text": [
      " 98%|█████████▊| 22347/22800 [47:27<02:12,  3.42it/s]"
     ]
    },
    {
     "name": "stdout",
     "output_type": "stream",
     "text": [
      "Pretrain_loss :  0.27680158615112305\n"
     ]
    },
    {
     "name": "stderr",
     "output_type": "stream",
     "text": [
      " 99%|█████████▉| 22577/22800 [48:14<01:11,  3.13it/s]"
     ]
    },
    {
     "name": "stdout",
     "output_type": "stream",
     "text": [
      "Pretrain_loss :  0.211419016122818\n"
     ]
    },
    {
     "name": "stderr",
     "output_type": "stream",
     "text": [
      "100%|█████████▉| 22799/22800 [48:56<00:00,  5.73it/s]"
     ]
    },
    {
     "name": "stderr",
     "output_type": "stream",
     "text": [
      "100%|██████████| 22800/22800 [49:10<00:00,  5.73it/s]"
     ]
    }
   ],
   "source": [
    "#Pretraining \n",
    "number_of_steps = len(dataloader)*num_epochs\n",
    "progress_bar = tqdm(range(number_of_steps))\n",
    "\n",
    "mocoModel.train()\n",
    "for epoch in range(num_epochs):\n",
    "    for i,(images,labels) in enumerate(dataloader):\n",
    "        optimiser.zero_grad()\n",
    "        #images : [bs,3,128,128]\n",
    "        images = images.to(device)\n",
    "        #Get two augmentations:\n",
    "        query_images = augTransform(images)\n",
    "        key_images = augTransform(images)\n",
    "\n",
    "        all_logits, labels = mocoModel(query_images,key_images)\n",
    "        #all_logits : [(queue_size + 1),emb_dim]\n",
    "        #labels : [(queue_size + 1)], Tensor of all zeros\n",
    "\n",
    "        loss = criterion(all_logits,labels)\n",
    "\n",
    "        loss.backward()\n",
    "\n",
    "        optimiser.step()\n",
    "\n",
    "        progress_bar.update()\n",
    "\n",
    "        if i%500 == 0:\n",
    "            print(\"Pretrain_loss : \",loss.item())\n",
    "\n",
    "    lr_decay.step()\n"
   ]
  },
  {
   "cell_type": "code",
   "execution_count": null,
   "metadata": {},
   "outputs": [],
   "source": [
    "# Saing Pretrained Moco Model\n",
    "ModelPath = \"/data4/home/hrishikeshj/DLNLP/ADRLA3/trainedModels/TR1/mocoModel.pt\"\n",
    "torch.save(mocoModel.state_dict(),ModelPath)"
   ]
  },
  {
   "cell_type": "markdown",
   "metadata": {},
   "source": [
    "# Part 2 : Fine-Tuning"
   ]
  },
  {
   "cell_type": "code",
   "execution_count": null,
   "metadata": {},
   "outputs": [],
   "source": [
    "# We create the CNN model we had used for pretraining. it already has a fully connected layer, which will be fine\n",
    "# tuned. \n",
    "\n",
    "query_encoder = ResNet(BasicBlock,[2,2,2,2],num_classes=3)"
   ]
  },
  {
   "cell_type": "code",
   "execution_count": null,
   "metadata": {},
   "outputs": [],
   "source": [
    "# Loading pre-trained MoCo Model\n",
    "\n",
    "modelPath = \"/data4/home/hrishikeshj/DLNLP/ADRLA3/trainedModels/TR1/mocoModel.pt\"\n",
    "moco_state_dict = torch.load(modelPath)\n",
    "for k in list(moco_state_dict.keys()):\n",
    "    # retain only encoder_q up to before the embedding layer\n",
    "    if k.startswith('query_encoder.') and not k.startswith('query_encoder.fc'):\n",
    "        # remove prefix\n",
    "        moco_state_dict[k[len(\"query_encoder.\"):]] = moco_state_dict[k]\n",
    "    # delete renamed or unused k\n",
    "    del moco_state_dict[k]\n",
    "\n",
    "\n",
    "query_encoder.load_state_dict(moco_state_dict,strict=False)\n",
    "\n",
    "torch.cuda.set_device(device_to_use)\n",
    "device = torch.device('cuda') if torch.cuda.is_available() else torch.device('cpu')\n",
    "\n",
    "query_encoder = query_encoder.to(device)"
   ]
  },
  {
   "cell_type": "code",
   "execution_count": null,
   "metadata": {},
   "outputs": [
    {
     "name": "stdout",
     "output_type": "stream",
     "text": [
      "After sampling :  13166\n"
     ]
    }
   ],
   "source": [
    "# Creates a subsampler that samples x% of data from the train dataset\n",
    "\n",
    "class_wise_indices = {0:[i for i in range(5153)],1:[i for i in range(5153,9892)],2:[i for i in range(9892,14629)]}\n",
    "\n",
    "percentage = 0.9\n",
    "\n",
    "subset_indices = []\n",
    "\n",
    "for label in range(3):\n",
    "    num_of_samples = len(class_wise_indices[label])\n",
    "    num_of_samples = round(percentage*num_of_samples)\n",
    "    subset_indices.extend(class_wise_indices[label][:num_of_samples])\n",
    "\n",
    "print(\"After sampling : \",len(subset_indices))\n",
    "random.shuffle(subset_indices)\n",
    "subset_sampler = torch.utils.data.SubsetRandomSampler(subset_indices)\n",
    "\n",
    "subset_dataloader = torch.utils.data.DataLoader(dataset, batch_size=batch_size\n",
    "                                         , num_workers=8, drop_last=True,sampler=subset_sampler)"
   ]
  },
  {
   "cell_type": "code",
   "execution_count": null,
   "metadata": {},
   "outputs": [],
   "source": [
    "# Hyperparameters for Fine-tuning\n",
    "\n",
    "batch_size = 32\n",
    "learning_rate = 0.001\n",
    "fine_tune_epochs = 200\n",
    "patience = 40 # For Early stopping"
   ]
  },
  {
   "cell_type": "code",
   "execution_count": null,
   "metadata": {},
   "outputs": [],
   "source": [
    "optimiser = torch.optim.Adam(query_encoder.parameters(), lr=learning_rate)\n",
    "lr_decay = torch.optim.lr_scheduler.CosineAnnealingLR(optimiser, num_epochs)\n",
    "criterion = nn.CrossEntropyLoss()\n",
    "criterion = criterion.to(device)"
   ]
  },
  {
   "cell_type": "code",
   "execution_count": null,
   "metadata": {},
   "outputs": [],
   "source": [
    "# Evaluation on test dataset\n",
    "def evaluate(encoder, test_dataloader):\n",
    "    valid_loss = 0.0  # reset loss\n",
    "    valid_acc = 0.0  # reset acc\n",
    "    \n",
    "    criterion = nn.CrossEntropyLoss().cuda()\n",
    "\n",
    "    # Evaluate both encoder and class head\n",
    "    encoder.eval()\n",
    "\n",
    "    for i, (inputs, target) in enumerate(test_dataloader):\n",
    "\n",
    "        # Do not compute gradient for encoder and classification head\n",
    "        encoder.zero_grad()\n",
    "        inputs = inputs.to(device)\n",
    "        target = target.to(device)\n",
    "        # Forward pass\n",
    "\n",
    "        output = encoder(inputs)\n",
    "\n",
    "        loss = criterion(output, target)\n",
    "\n",
    "        valid_loss += loss.item()\n",
    "\n",
    "        predicted = output.argmax(-1)\n",
    "\n",
    "        acc = (predicted == target).sum().item() / target.size(0)\n",
    "\n",
    "        valid_acc += acc\n",
    "\n",
    "    valid_loss = valid_loss / len(test_dataloader)\n",
    "\n",
    "    valid_acc = valid_acc / len(test_dataloader)\n",
    "\n",
    "    print(\"Test loss : \",valid_loss)\n",
    "    print(\"Test Acc : \",valid_acc)\n",
    "    return valid_loss, valid_acc"
   ]
  },
  {
   "cell_type": "code",
   "execution_count": null,
   "metadata": {},
   "outputs": [
    {
     "name": "stderr",
     "output_type": "stream",
     "text": [
      "  0%|          | 0/82200 [00:00<?, ?it/s]"
     ]
    },
    {
     "name": "stderr",
     "output_type": "stream",
     "text": [
      "  0%|          | 411/82200 [00:49<2:08:19, 10.62it/s]"
     ]
    },
    {
     "name": "stdout",
     "output_type": "stream",
     "text": [
      "Epoch loss :  1.0139951437639203\n",
      "Epoch accuracy :  0.4565845498783455\n",
      "Test loss :  0.8604963046053181\n",
      "Test Acc :  0.6127717391304348\n"
     ]
    },
    {
     "name": "stderr",
     "output_type": "stream",
     "text": [
      "  1%|          | 821/82200 [01:33<2:10:17, 10.41it/s] "
     ]
    },
    {
     "name": "stdout",
     "output_type": "stream",
     "text": [
      "Epoch loss :  0.4278062965965619\n",
      "Epoch accuracy :  0.8299878345498783\n",
      "Test loss :  0.3221277111898298\n",
      "Test Acc :  0.8838315217391305\n"
     ]
    },
    {
     "name": "stderr",
     "output_type": "stream",
     "text": [
      "  1%|▏         | 1232/82200 [01:53<38:37, 34.94it/s]  "
     ]
    },
    {
     "name": "stdout",
     "output_type": "stream",
     "text": [
      "Epoch loss :  0.234400772038675\n",
      "Epoch accuracy :  0.9128649635036497\n",
      "Test loss :  0.20364671921276528\n",
      "Test Acc :  0.921875\n"
     ]
    },
    {
     "name": "stderr",
     "output_type": "stream",
     "text": [
      "  2%|▏         | 1641/82200 [02:08<38:49, 34.58it/s]  "
     ]
    },
    {
     "name": "stdout",
     "output_type": "stream",
     "text": [
      "Epoch loss :  0.1635260510682117\n",
      "Epoch accuracy :  0.9371958637469586\n",
      "Test loss :  0.12285667912953574\n",
      "Test Acc :  0.954483695652174\n"
     ]
    },
    {
     "name": "stderr",
     "output_type": "stream",
     "text": [
      "  2%|▏         | 2054/82200 [02:23<35:28, 37.65it/s]  "
     ]
    },
    {
     "name": "stdout",
     "output_type": "stream",
     "text": [
      "Epoch loss :  0.1222479132892351\n",
      "Epoch accuracy :  0.9559762773722628\n",
      "Test loss :  0.18831975887651028\n",
      "Test Acc :  0.938858695652174\n",
      "Patience Counter :  1\n"
     ]
    },
    {
     "name": "stderr",
     "output_type": "stream",
     "text": [
      "  3%|▎         | 2466/82200 [02:39<38:39, 34.38it/s]  "
     ]
    },
    {
     "name": "stdout",
     "output_type": "stream",
     "text": [
      "Epoch loss :  0.09351277430122605\n",
      "Epoch accuracy :  0.9648722627737226\n",
      "Test loss :  0.11687575829336824\n",
      "Test Acc :  0.9490489130434783\n",
      "Patience Counter :  2\n"
     ]
    },
    {
     "name": "stderr",
     "output_type": "stream",
     "text": [
      "  3%|▎         | 2875/82200 [02:53<35:57, 36.76it/s]  "
     ]
    },
    {
     "name": "stdout",
     "output_type": "stream",
     "text": [
      "Epoch loss :  0.0660736741976237\n",
      "Epoch accuracy :  0.975669099756691\n",
      "Test loss :  0.13382008297206915\n",
      "Test Acc :  0.9578804347826086\n"
     ]
    },
    {
     "name": "stderr",
     "output_type": "stream",
     "text": [
      "  4%|▍         | 3287/82200 [03:09<39:23, 33.39it/s]  "
     ]
    },
    {
     "name": "stdout",
     "output_type": "stream",
     "text": [
      "Epoch loss :  0.05456800083456297\n",
      "Epoch accuracy :  0.9815237226277372\n",
      "Test loss :  0.1460154240535896\n",
      "Test Acc :  0.9490489130434783\n",
      "Patience Counter :  1\n"
     ]
    },
    {
     "name": "stderr",
     "output_type": "stream",
     "text": [
      "  4%|▍         | 3697/82200 [03:50<2:03:04, 10.63it/s] "
     ]
    },
    {
     "name": "stdout",
     "output_type": "stream",
     "text": [
      "Epoch loss :  0.04797698883297275\n",
      "Epoch accuracy :  0.9825121654501217\n",
      "Test loss :  0.13566044299446017\n",
      "Test Acc :  0.9612771739130435\n"
     ]
    },
    {
     "name": "stderr",
     "output_type": "stream",
     "text": [
      "  5%|▍         | 4108/82200 [04:06<39:26, 33.00it/s]  "
     ]
    },
    {
     "name": "stdout",
     "output_type": "stream",
     "text": [
      "Epoch loss :  0.03949951517158215\n",
      "Epoch accuracy :  0.9872262773722628\n",
      "Test loss :  0.13234368347279404\n",
      "Test Acc :  0.9599184782608695\n",
      "Patience Counter :  1\n"
     ]
    },
    {
     "name": "stderr",
     "output_type": "stream",
     "text": [
      "  5%|▌         | 4520/82200 [04:21<39:29, 32.78it/s]  "
     ]
    },
    {
     "name": "stdout",
     "output_type": "stream",
     "text": [
      "Epoch loss :  0.03710954792028474\n",
      "Epoch accuracy :  0.9876064476885644\n",
      "Test loss :  0.157919452910352\n",
      "Test Acc :  0.9605978260869565\n",
      "Patience Counter :  2\n"
     ]
    },
    {
     "name": "stderr",
     "output_type": "stream",
     "text": [
      "  6%|▌         | 4932/82200 [04:36<38:41, 33.28it/s]  "
     ]
    },
    {
     "name": "stdout",
     "output_type": "stream",
     "text": [
      "Epoch loss :  0.03718560585189252\n",
      "Epoch accuracy :  0.9872262773722628\n",
      "Test loss :  0.1566937914695186\n",
      "Test Acc :  0.9558423913043478\n",
      "Patience Counter :  3\n"
     ]
    },
    {
     "name": "stderr",
     "output_type": "stream",
     "text": [
      "  6%|▋         | 5340/82200 [04:51<38:45, 33.06it/s]  "
     ]
    },
    {
     "name": "stdout",
     "output_type": "stream",
     "text": [
      "Epoch loss :  0.03169350434355292\n",
      "Epoch accuracy :  0.9892031630170316\n",
      "Test loss :  0.19485497413931982\n",
      "Test Acc :  0.9463315217391305\n",
      "Patience Counter :  4\n"
     ]
    },
    {
     "name": "stderr",
     "output_type": "stream",
     "text": [
      "  7%|▋         | 5752/82200 [05:06<39:21, 32.38it/s]  "
     ]
    },
    {
     "name": "stdout",
     "output_type": "stream",
     "text": [
      "Epoch loss :  0.027196423820387082\n",
      "Epoch accuracy :  0.9911800486618005\n",
      "Test loss :  0.163571265895608\n",
      "Test Acc :  0.9578804347826086\n",
      "Patience Counter :  5\n"
     ]
    },
    {
     "name": "stderr",
     "output_type": "stream",
     "text": [
      "  8%|▊         | 6165/82200 [05:21<38:04, 33.29it/s]  "
     ]
    },
    {
     "name": "stdout",
     "output_type": "stream",
     "text": [
      "Epoch loss :  0.017202583927003478\n",
      "Epoch accuracy :  0.9931569343065694\n",
      "Test loss :  0.1546669983502437\n",
      "Test Acc :  0.9626358695652174\n"
     ]
    },
    {
     "name": "stderr",
     "output_type": "stream",
     "text": [
      "  8%|▊         | 6573/82200 [05:37<38:08, 33.04it/s]  "
     ]
    },
    {
     "name": "stdout",
     "output_type": "stream",
     "text": [
      "Epoch loss :  0.02490166962788442\n",
      "Epoch accuracy :  0.9917883211678832\n",
      "Test loss :  0.1400542892161352\n",
      "Test Acc :  0.9578804347826086\n",
      "Patience Counter :  1\n"
     ]
    },
    {
     "name": "stderr",
     "output_type": "stream",
     "text": [
      "  8%|▊         | 6985/82200 [05:52<37:23, 33.52it/s]  "
     ]
    },
    {
     "name": "stdout",
     "output_type": "stream",
     "text": [
      "Epoch loss :  0.027364422029849976\n",
      "Epoch accuracy :  0.9909519464720195\n",
      "Test loss :  0.10629939431901617\n",
      "Test Acc :  0.9667119565217391\n"
     ]
    },
    {
     "name": "stderr",
     "output_type": "stream",
     "text": [
      "  9%|▉         | 7397/82200 [06:08<38:11, 32.64it/s]  "
     ]
    },
    {
     "name": "stdout",
     "output_type": "stream",
     "text": [
      "Epoch loss :  0.014252932316631866\n",
      "Epoch accuracy :  0.996198296836983\n",
      "Test loss :  0.13865772029305884\n",
      "Test Acc :  0.9626358695652174\n",
      "Patience Counter :  1\n"
     ]
    },
    {
     "name": "stderr",
     "output_type": "stream",
     "text": [
      " 10%|▉         | 7809/82200 [06:23<37:45, 32.84it/s]  "
     ]
    },
    {
     "name": "stdout",
     "output_type": "stream",
     "text": [
      "Epoch loss :  0.019737686066524925\n",
      "Epoch accuracy :  0.9936131386861314\n",
      "Test loss :  0.1741136110724809\n",
      "Test Acc :  0.9592391304347826\n",
      "Patience Counter :  2\n"
     ]
    },
    {
     "name": "stderr",
     "output_type": "stream",
     "text": [
      " 10%|▉         | 8217/82200 [06:38<37:29, 32.89it/s]  "
     ]
    },
    {
     "name": "stdout",
     "output_type": "stream",
     "text": [
      "Epoch loss :  0.01593430452566997\n",
      "Epoch accuracy :  0.9949817518248175\n",
      "Test loss :  0.15480635348143076\n",
      "Test Acc :  0.9605978260869565\n",
      "Patience Counter :  3\n"
     ]
    },
    {
     "name": "stderr",
     "output_type": "stream",
     "text": [
      " 10%|█         | 8629/82200 [06:53<37:42, 32.52it/s]  "
     ]
    },
    {
     "name": "stdout",
     "output_type": "stream",
     "text": [
      "Epoch loss :  0.01925231290162989\n",
      "Epoch accuracy :  0.9941453771289538\n",
      "Test loss :  0.17996192770869643\n",
      "Test Acc :  0.9660326086956522\n",
      "Patience Counter :  4\n"
     ]
    },
    {
     "name": "stderr",
     "output_type": "stream",
     "text": [
      " 11%|█         | 9041/82200 [07:08<36:02, 33.83it/s]  "
     ]
    },
    {
     "name": "stdout",
     "output_type": "stream",
     "text": [
      "Epoch loss :  0.01876533581586375\n",
      "Epoch accuracy :  0.9946776155717761\n",
      "Test loss :  0.12521348449492664\n",
      "Test Acc :  0.9667119565217391\n",
      "Patience Counter :  5\n"
     ]
    },
    {
     "name": "stderr",
     "output_type": "stream",
     "text": [
      " 12%|█▏        | 9453/82200 [07:23<35:59, 33.69it/s]  "
     ]
    },
    {
     "name": "stdout",
     "output_type": "stream",
     "text": [
      "Epoch loss :  0.011816269863183784\n",
      "Epoch accuracy :  0.9960462287104623\n",
      "Test loss :  0.16991961332646693\n",
      "Test Acc :  0.9605978260869565\n",
      "Patience Counter :  6\n"
     ]
    },
    {
     "name": "stderr",
     "output_type": "stream",
     "text": [
      " 12%|█▏        | 9861/82200 [07:38<35:27, 34.00it/s]  "
     ]
    },
    {
     "name": "stdout",
     "output_type": "stream",
     "text": [
      "Epoch loss :  0.01815996417148168\n",
      "Epoch accuracy :  0.9931569343065694\n",
      "Test loss :  0.19415907095168697\n",
      "Test Acc :  0.9497282608695652\n",
      "Patience Counter :  7\n"
     ]
    },
    {
     "name": "stderr",
     "output_type": "stream",
     "text": [
      " 12%|█▏        | 10273/82200 [07:53<36:43, 32.64it/s] "
     ]
    },
    {
     "name": "stdout",
     "output_type": "stream",
     "text": [
      "Epoch loss :  0.010375064005729915\n",
      "Epoch accuracy :  0.9967305352798054\n",
      "Test loss :  0.1879168230163348\n",
      "Test Acc :  0.9660326086956522\n",
      "Patience Counter :  8\n"
     ]
    },
    {
     "name": "stderr",
     "output_type": "stream",
     "text": [
      " 13%|█▎        | 10685/82200 [08:08<36:12, 32.92it/s]  "
     ]
    },
    {
     "name": "stdout",
     "output_type": "stream",
     "text": [
      "Epoch loss :  0.015062670855478577\n",
      "Epoch accuracy :  0.9950577858880778\n",
      "Test loss :  0.18452275995387818\n",
      "Test Acc :  0.954483695652174\n",
      "Patience Counter :  9\n"
     ]
    },
    {
     "name": "stderr",
     "output_type": "stream",
     "text": [
      " 14%|█▎        | 11097/82200 [08:24<34:50, 34.01it/s]  "
     ]
    },
    {
     "name": "stdout",
     "output_type": "stream",
     "text": [
      "Epoch loss :  0.01742596948655348\n",
      "Epoch accuracy :  0.9948296836982968\n",
      "Test loss :  0.17271874061676182\n",
      "Test Acc :  0.9653532608695652\n",
      "Patience Counter :  10\n"
     ]
    },
    {
     "name": "stderr",
     "output_type": "stream",
     "text": [
      " 14%|█▍        | 11505/82200 [08:39<35:13, 33.45it/s]  "
     ]
    },
    {
     "name": "stdout",
     "output_type": "stream",
     "text": [
      "Epoch loss :  0.011402511242269767\n",
      "Epoch accuracy :  0.9968826034063261\n",
      "Test loss :  0.19467695061836782\n",
      "Test Acc :  0.9619565217391305\n",
      "Patience Counter :  11\n"
     ]
    },
    {
     "name": "stderr",
     "output_type": "stream",
     "text": [
      " 14%|█▍        | 11917/82200 [08:54<34:34, 33.87it/s]  "
     ]
    },
    {
     "name": "stdout",
     "output_type": "stream",
     "text": [
      "Epoch loss :  0.012295222086455884\n",
      "Epoch accuracy :  0.9971867396593674\n",
      "Test loss :  0.12659487227796015\n",
      "Test Acc :  0.96875\n"
     ]
    },
    {
     "name": "stderr",
     "output_type": "stream",
     "text": [
      " 15%|█▍        | 12329/82200 [09:10<35:45, 32.56it/s]  "
     ]
    },
    {
     "name": "stdout",
     "output_type": "stream",
     "text": [
      "Epoch loss :  0.009880139606884551\n",
      "Epoch accuracy :  0.996426399026764\n",
      "Test loss :  0.15499934283434413\n",
      "Test Acc :  0.9626358695652174\n",
      "Patience Counter :  1\n"
     ]
    },
    {
     "name": "stderr",
     "output_type": "stream",
     "text": [
      " 16%|█▌        | 12741/82200 [09:25<34:29, 33.57it/s]  "
     ]
    },
    {
     "name": "stdout",
     "output_type": "stream",
     "text": [
      "Epoch loss :  0.009617575090314141\n",
      "Epoch accuracy :  0.9968065693430657\n",
      "Test loss :  0.1649003032202927\n",
      "Test Acc :  0.9646739130434783\n",
      "Patience Counter :  2\n"
     ]
    },
    {
     "name": "stderr",
     "output_type": "stream",
     "text": [
      " 16%|█▌        | 13151/82200 [09:40<35:14, 32.65it/s]  "
     ]
    },
    {
     "name": "stdout",
     "output_type": "stream",
     "text": [
      "Epoch loss :  0.013311217406777133\n",
      "Epoch accuracy :  0.9958181265206812\n",
      "Test loss :  0.17068799525630943\n",
      "Test Acc :  0.9653532608695652\n",
      "Patience Counter :  3\n"
     ]
    },
    {
     "name": "stderr",
     "output_type": "stream",
     "text": [
      " 16%|█▋        | 13562/82200 [09:55<34:51, 32.82it/s]  "
     ]
    },
    {
     "name": "stdout",
     "output_type": "stream",
     "text": [
      "Epoch loss :  0.009592804196999656\n",
      "Epoch accuracy :  0.997110705596107\n",
      "Test loss :  0.17208374796799666\n",
      "Test Acc :  0.9605978260869565\n",
      "Patience Counter :  4\n"
     ]
    },
    {
     "name": "stderr",
     "output_type": "stream",
     "text": [
      " 17%|█▋        | 13974/82200 [10:10<34:10, 33.27it/s]  "
     ]
    },
    {
     "name": "stdout",
     "output_type": "stream",
     "text": [
      "Epoch loss :  0.01132755026194751\n",
      "Epoch accuracy :  0.9970346715328468\n",
      "Test loss :  0.14449829227795935\n",
      "Test Acc :  0.9633152173913043\n",
      "Patience Counter :  5\n"
     ]
    },
    {
     "name": "stderr",
     "output_type": "stream",
     "text": [
      " 17%|█▋        | 14383/82200 [10:26<32:01, 35.30it/s]  "
     ]
    },
    {
     "name": "stdout",
     "output_type": "stream",
     "text": [
      "Epoch loss :  0.006508984344876418\n",
      "Epoch accuracy :  0.9982512165450121\n",
      "Test loss :  0.1392354055500144\n",
      "Test Acc :  0.9592391304347826\n",
      "Patience Counter :  6\n"
     ]
    },
    {
     "name": "stderr",
     "output_type": "stream",
     "text": [
      " 18%|█▊        | 14794/82200 [10:41<33:24, 33.63it/s]  "
     ]
    },
    {
     "name": "stdout",
     "output_type": "stream",
     "text": [
      "Epoch loss :  0.0053277310929947955\n",
      "Epoch accuracy :  0.9980991484184915\n",
      "Test loss :  0.20737611281196391\n",
      "Test Acc :  0.970108695652174\n"
     ]
    },
    {
     "name": "stderr",
     "output_type": "stream",
     "text": [
      " 18%|█▊        | 15206/82200 [10:56<34:17, 32.55it/s]  "
     ]
    },
    {
     "name": "stdout",
     "output_type": "stream",
     "text": [
      "Epoch loss :  0.006568783092156104\n",
      "Epoch accuracy :  0.9990875912408759\n",
      "Test loss :  0.22950709022014684\n",
      "Test Acc :  0.9605978260869565\n",
      "Patience Counter :  1\n"
     ]
    },
    {
     "name": "stderr",
     "output_type": "stream",
     "text": [
      " 19%|█▉        | 15618/82200 [11:11<32:40, 33.96it/s]  "
     ]
    },
    {
     "name": "stdout",
     "output_type": "stream",
     "text": [
      "Epoch loss :  0.003242777441882393\n",
      "Epoch accuracy :  0.9990115571776156\n",
      "Test loss :  0.19828212921160943\n",
      "Test Acc :  0.9714673913043478\n"
     ]
    },
    {
     "name": "stderr",
     "output_type": "stream",
     "text": [
      " 19%|█▉        | 16026/82200 [11:27<33:37, 32.80it/s]  "
     ]
    },
    {
     "name": "stdout",
     "output_type": "stream",
     "text": [
      "Epoch loss :  0.011545030397217642\n",
      "Epoch accuracy :  0.9972627737226277\n",
      "Test loss :  0.18502758167695624\n",
      "Test Acc :  0.9619565217391305\n",
      "Patience Counter :  1\n"
     ]
    },
    {
     "name": "stderr",
     "output_type": "stream",
     "text": [
      " 20%|█▉        | 16438/82200 [11:42<32:31, 33.71it/s]  "
     ]
    },
    {
     "name": "stdout",
     "output_type": "stream",
     "text": [
      "Epoch loss :  0.007634669630451671\n",
      "Epoch accuracy :  0.9976429440389294\n",
      "Test loss :  0.1594187671907212\n",
      "Test Acc :  0.967391304347826\n",
      "Patience Counter :  2\n"
     ]
    },
    {
     "name": "stderr",
     "output_type": "stream",
     "text": [
      " 20%|██        | 16850/82200 [11:57<33:29, 32.53it/s]  "
     ]
    },
    {
     "name": "stdout",
     "output_type": "stream",
     "text": [
      "Epoch loss :  0.008617674128194032\n",
      "Epoch accuracy :  0.997110705596107\n",
      "Test loss :  0.2373523053497395\n",
      "Test Acc :  0.9605978260869565\n",
      "Patience Counter :  3\n"
     ]
    },
    {
     "name": "stderr",
     "output_type": "stream",
     "text": [
      " 21%|██        | 17262/82200 [12:12<32:37, 33.17it/s]  "
     ]
    },
    {
     "name": "stdout",
     "output_type": "stream",
     "text": [
      "Epoch loss :  0.001829129062430256\n",
      "Epoch accuracy :  0.9992396593673966\n",
      "Test loss :  0.2547666566658729\n",
      "Test Acc :  0.9653532608695652\n",
      "Patience Counter :  4\n"
     ]
    },
    {
     "name": "stderr",
     "output_type": "stream",
     "text": [
      " 21%|██▏       | 17670/82200 [12:27<33:33, 32.04it/s]  "
     ]
    },
    {
     "name": "stdout",
     "output_type": "stream",
     "text": [
      "Epoch loss :  0.007331103810548412\n",
      "Epoch accuracy :  0.9975669099756691\n",
      "Test loss :  0.14908925950468352\n",
      "Test Acc :  0.9660326086956522\n",
      "Patience Counter :  5\n"
     ]
    },
    {
     "name": "stderr",
     "output_type": "stream",
     "text": [
      " 22%|██▏       | 18082/82200 [12:42<31:15, 34.18it/s]  "
     ]
    },
    {
     "name": "stdout",
     "output_type": "stream",
     "text": [
      "Epoch loss :  0.007333032670337896\n",
      "Epoch accuracy :  0.9984793187347932\n",
      "Test loss :  0.14534818288524073\n",
      "Test Acc :  0.9721467391304348\n"
     ]
    },
    {
     "name": "stderr",
     "output_type": "stream",
     "text": [
      " 22%|██▏       | 18494/82200 [12:58<31:21, 33.87it/s]  "
     ]
    },
    {
     "name": "stdout",
     "output_type": "stream",
     "text": [
      "Epoch loss :  0.0023439754110915183\n",
      "Epoch accuracy :  0.9994677615571776\n",
      "Test loss :  0.18749530454917238\n",
      "Test Acc :  0.9660326086956522\n",
      "Patience Counter :  1\n"
     ]
    },
    {
     "name": "stderr",
     "output_type": "stream",
     "text": [
      " 23%|██▎       | 18906/82200 [13:13<31:46, 33.20it/s]  "
     ]
    },
    {
     "name": "stdout",
     "output_type": "stream",
     "text": [
      "Epoch loss :  0.0004864436353164287\n",
      "Epoch accuracy :  0.9998479318734793\n",
      "Test loss :  0.2249106021188796\n",
      "Test Acc :  0.9748641304347826\n"
     ]
    },
    {
     "name": "stderr",
     "output_type": "stream",
     "text": [
      " 23%|██▎       | 19314/82200 [13:29<30:35, 34.26it/s]  "
     ]
    },
    {
     "name": "stdout",
     "output_type": "stream",
     "text": [
      "Epoch loss :  8.11409150609321e-05\n",
      "Epoch accuracy :  0.9999239659367397\n",
      "Test loss :  0.2412911885734247\n",
      "Test Acc :  0.9728260869565217\n",
      "Patience Counter :  1\n"
     ]
    },
    {
     "name": "stderr",
     "output_type": "stream",
     "text": [
      " 24%|██▍       | 19726/82200 [13:44<31:59, 32.55it/s]  "
     ]
    },
    {
     "name": "stdout",
     "output_type": "stream",
     "text": [
      "Epoch loss :  0.0004773663793313614\n",
      "Epoch accuracy :  0.9998479318734793\n",
      "Test loss :  0.19305807151835405\n",
      "Test Acc :  0.9748641304347826\n",
      "Patience Counter :  2\n"
     ]
    },
    {
     "name": "stderr",
     "output_type": "stream",
     "text": [
      " 24%|██▍       | 20138/82200 [13:59<30:18, 34.13it/s]  "
     ]
    },
    {
     "name": "stdout",
     "output_type": "stream",
     "text": [
      "Epoch loss :  0.0001394266404496658\n",
      "Epoch accuracy :  0.9999239659367397\n",
      "Test loss :  0.27715976412924503\n",
      "Test Acc :  0.9694293478260869\n",
      "Patience Counter :  3\n"
     ]
    },
    {
     "name": "stderr",
     "output_type": "stream",
     "text": [
      " 25%|██▌       | 20550/82200 [14:14<30:04, 34.17it/s]  "
     ]
    },
    {
     "name": "stdout",
     "output_type": "stream",
     "text": [
      "Epoch loss :  0.00011414592863499731\n",
      "Epoch accuracy :  0.9999239659367397\n",
      "Test loss :  0.2519918442702688\n",
      "Test Acc :  0.9769021739130435\n"
     ]
    },
    {
     "name": "stderr",
     "output_type": "stream",
     "text": [
      " 25%|██▌       | 20958/82200 [14:33<32:02, 31.85it/s]  "
     ]
    },
    {
     "name": "stdout",
     "output_type": "stream",
     "text": [
      "Epoch loss :  0.00011245114461631801\n",
      "Epoch accuracy :  0.9999239659367397\n",
      "Test loss :  0.2553351939015943\n",
      "Test Acc :  0.9755434782608695\n",
      "Patience Counter :  1\n"
     ]
    },
    {
     "name": "stderr",
     "output_type": "stream",
     "text": [
      " 26%|██▌       | 21370/82200 [14:48<30:09, 33.61it/s]  "
     ]
    },
    {
     "name": "stdout",
     "output_type": "stream",
     "text": [
      "Epoch loss :  7.384795297812176e-05\n",
      "Epoch accuracy :  1.0\n",
      "Test loss :  0.27955540551491054\n",
      "Test Acc :  0.9755434782608695\n",
      "Patience Counter :  2\n"
     ]
    },
    {
     "name": "stderr",
     "output_type": "stream",
     "text": [
      " 26%|██▋       | 21782/82200 [15:04<30:16, 33.27it/s]  "
     ]
    },
    {
     "name": "stdout",
     "output_type": "stream",
     "text": [
      "Epoch loss :  7.70605496634626e-05\n",
      "Epoch accuracy :  0.9999239659367397\n",
      "Test loss :  0.30052854400917484\n",
      "Test Acc :  0.9721467391304348\n",
      "Patience Counter :  3\n"
     ]
    },
    {
     "name": "stderr",
     "output_type": "stream",
     "text": [
      " 27%|██▋       | 22193/82200 [15:19<30:36, 32.68it/s]  "
     ]
    },
    {
     "name": "stdout",
     "output_type": "stream",
     "text": [
      "Epoch loss :  0.00018874033868857763\n",
      "Epoch accuracy :  0.9999239659367397\n",
      "Test loss :  0.3041324285864664\n",
      "Test Acc :  0.9721467391304348\n",
      "Patience Counter :  4\n"
     ]
    },
    {
     "name": "stderr",
     "output_type": "stream",
     "text": [
      " 27%|██▋       | 22602/82200 [15:34<30:25, 32.65it/s]  "
     ]
    },
    {
     "name": "stdout",
     "output_type": "stream",
     "text": [
      "Epoch loss :  0.0001233458378964877\n",
      "Epoch accuracy :  0.9998479318734793\n",
      "Test loss :  0.3181247524064023\n",
      "Test Acc :  0.9728260869565217\n",
      "Patience Counter :  5\n"
     ]
    },
    {
     "name": "stderr",
     "output_type": "stream",
     "text": [
      " 28%|██▊       | 23014/82200 [15:49<28:43, 34.35it/s]  "
     ]
    },
    {
     "name": "stdout",
     "output_type": "stream",
     "text": [
      "Epoch loss :  8.321610007003164e-05\n",
      "Epoch accuracy :  0.9999239659367397\n",
      "Test loss :  0.3328910099639994\n",
      "Test Acc :  0.9728260869565217\n",
      "Patience Counter :  6\n"
     ]
    },
    {
     "name": "stderr",
     "output_type": "stream",
     "text": [
      " 28%|██▊       | 23427/82200 [16:04<29:45, 32.92it/s]  "
     ]
    },
    {
     "name": "stdout",
     "output_type": "stream",
     "text": [
      "Epoch loss :  0.00012764422549055312\n",
      "Epoch accuracy :  0.9998479318734793\n",
      "Test loss :  0.3339693456113193\n",
      "Test Acc :  0.9735054347826086\n",
      "Patience Counter :  7\n"
     ]
    },
    {
     "name": "stderr",
     "output_type": "stream",
     "text": [
      " 29%|██▉       | 23836/82200 [16:19<28:35, 34.02it/s]  "
     ]
    },
    {
     "name": "stdout",
     "output_type": "stream",
     "text": [
      "Epoch loss :  9.926296904475867e-05\n",
      "Epoch accuracy :  0.9999239659367397\n",
      "Test loss :  0.3550923935978554\n",
      "Test Acc :  0.9728260869565217\n",
      "Patience Counter :  8\n"
     ]
    },
    {
     "name": "stderr",
     "output_type": "stream",
     "text": [
      " 29%|██▉       | 24248/82200 [16:33<28:05, 34.38it/s]  "
     ]
    },
    {
     "name": "stdout",
     "output_type": "stream",
     "text": [
      "Epoch loss :  1.873449619926211e-05\n",
      "Epoch accuracy :  1.0\n",
      "Test loss :  0.37967780374448806\n",
      "Test Acc :  0.9762228260869565\n",
      "Patience Counter :  9\n"
     ]
    },
    {
     "name": "stderr",
     "output_type": "stream",
     "text": [
      " 30%|███       | 24660/82200 [16:48<28:57, 33.12it/s]  "
     ]
    },
    {
     "name": "stdout",
     "output_type": "stream",
     "text": [
      "Epoch loss :  2.1359805998277778e-06\n",
      "Epoch accuracy :  1.0\n",
      "Test loss :  0.4557231271569254\n",
      "Test Acc :  0.9728260869565217\n",
      "Patience Counter :  10\n"
     ]
    },
    {
     "name": "stderr",
     "output_type": "stream",
     "text": [
      " 30%|███       | 25068/82200 [17:03<28:36, 33.28it/s]  "
     ]
    },
    {
     "name": "stdout",
     "output_type": "stream",
     "text": [
      "Epoch loss :  2.358185606776994e-08\n",
      "Epoch accuracy :  1.0\n",
      "Test loss :  0.49942351614809427\n",
      "Test Acc :  0.9714673913043478\n",
      "Patience Counter :  11\n"
     ]
    },
    {
     "name": "stderr",
     "output_type": "stream",
     "text": [
      " 31%|███       | 25479/82200 [17:18<27:54, 33.87it/s]  "
     ]
    },
    {
     "name": "stdout",
     "output_type": "stream",
     "text": [
      "Epoch loss :  1.8960010750382887e-08\n",
      "Epoch accuracy :  1.0\n",
      "Test loss :  0.47656969056938714\n",
      "Test Acc :  0.9735054347826086\n",
      "Patience Counter :  12\n"
     ]
    },
    {
     "name": "stderr",
     "output_type": "stream",
     "text": [
      " 31%|███▏      | 25891/82200 [17:33<28:40, 32.72it/s]  "
     ]
    },
    {
     "name": "stdout",
     "output_type": "stream",
     "text": [
      "Epoch loss :  1.586063789199417e-08\n",
      "Epoch accuracy :  1.0\n",
      "Test loss :  0.4970751780229643\n",
      "Test Acc :  0.9735054347826086\n",
      "Patience Counter :  13\n"
     ]
    },
    {
     "name": "stderr",
     "output_type": "stream",
     "text": [
      " 32%|███▏      | 26302/82200 [17:48<28:26, 32.76it/s]  "
     ]
    },
    {
     "name": "stdout",
     "output_type": "stream",
     "text": [
      "Epoch loss :  1.3522484676210558e-08\n",
      "Epoch accuracy :  1.0\n",
      "Test loss :  0.5005958798528974\n",
      "Test Acc :  0.9728260869565217\n",
      "Patience Counter :  14\n"
     ]
    },
    {
     "name": "stderr",
     "output_type": "stream",
     "text": [
      " 32%|███▎      | 26715/82200 [18:02<26:52, 34.42it/s]  "
     ]
    },
    {
     "name": "stdout",
     "output_type": "stream",
     "text": [
      "Epoch loss :  1.1365540794528921e-08\n",
      "Epoch accuracy :  1.0\n",
      "Test loss :  0.4637534341689443\n",
      "Test Acc :  0.9741847826086957\n",
      "Patience Counter :  15\n"
     ]
    },
    {
     "name": "stderr",
     "output_type": "stream",
     "text": [
      " 33%|███▎      | 27123/82200 [18:17<27:01, 33.97it/s]  "
     ]
    },
    {
     "name": "stdout",
     "output_type": "stream",
     "text": [
      "Epoch loss :  9.634511435745927e-09\n",
      "Epoch accuracy :  1.0\n",
      "Test loss :  0.5021893681044914\n",
      "Test Acc :  0.9728260869565217\n",
      "Patience Counter :  16\n"
     ]
    },
    {
     "name": "stderr",
     "output_type": "stream",
     "text": [
      " 33%|███▎      | 27535/82200 [18:32<28:04, 32.46it/s]  "
     ]
    },
    {
     "name": "stdout",
     "output_type": "stream",
     "text": [
      "Epoch loss :  8.15722277559655e-09\n",
      "Epoch accuracy :  1.0\n",
      "Test loss :  0.5029856243435846\n",
      "Test Acc :  0.9728260869565217\n",
      "Patience Counter :  17\n"
     ]
    },
    {
     "name": "stderr",
     "output_type": "stream",
     "text": [
      " 34%|███▍      | 27947/82200 [18:47<27:10, 33.27it/s]  "
     ]
    },
    {
     "name": "stdout",
     "output_type": "stream",
     "text": [
      "Epoch loss :  6.969938916372285e-09\n",
      "Epoch accuracy :  1.0\n",
      "Test loss :  0.46059287728483805\n",
      "Test Acc :  0.9741847826086957\n",
      "Patience Counter :  18\n"
     ]
    },
    {
     "name": "stderr",
     "output_type": "stream",
     "text": [
      " 34%|███▍      | 28356/82200 [19:02<27:08, 33.06it/s]  "
     ]
    },
    {
     "name": "stdout",
     "output_type": "stream",
     "text": [
      "Epoch loss :  5.9004611929055925e-09\n",
      "Epoch accuracy :  1.0\n",
      "Test loss :  0.49375068313855763\n",
      "Test Acc :  0.9735054347826086\n",
      "Patience Counter :  19\n"
     ]
    },
    {
     "name": "stderr",
     "output_type": "stream",
     "text": [
      " 35%|███▍      | 28768/82200 [19:17<25:14, 35.28it/s]  "
     ]
    },
    {
     "name": "stdout",
     "output_type": "stream",
     "text": [
      "Epoch loss :  5.021307652994616e-09\n",
      "Epoch accuracy :  1.0\n",
      "Test loss :  0.4972566091628244\n",
      "Test Acc :  0.9735054347826086\n",
      "Patience Counter :  20\n"
     ]
    },
    {
     "name": "stderr",
     "output_type": "stream",
     "text": [
      " 35%|███▌      | 29180/82200 [19:32<26:51, 32.90it/s]  "
     ]
    },
    {
     "name": "stdout",
     "output_type": "stream",
     "text": [
      "Epoch loss :  4.287161238612169e-09\n",
      "Epoch accuracy :  1.0\n",
      "Test loss :  0.5008650093155885\n",
      "Test Acc :  0.9741847826086957\n",
      "Patience Counter :  21\n"
     ]
    },
    {
     "name": "stderr",
     "output_type": "stream",
     "text": [
      " 36%|███▌      | 29592/82200 [19:47<25:39, 34.18it/s]  "
     ]
    },
    {
     "name": "stdout",
     "output_type": "stream",
     "text": [
      "Epoch loss :  3.661773828735509e-09\n",
      "Epoch accuracy :  1.0\n",
      "Test loss :  0.5082355714998509\n",
      "Test Acc :  0.9735054347826086\n",
      "Patience Counter :  22\n"
     ]
    },
    {
     "name": "stderr",
     "output_type": "stream",
     "text": [
      " 36%|███▋      | 30000/82200 [20:02<26:24, 32.95it/s]  "
     ]
    },
    {
     "name": "stdout",
     "output_type": "stream",
     "text": [
      "Epoch loss :  3.0635727996075153e-09\n",
      "Epoch accuracy :  1.0\n",
      "Test loss :  0.5097711921391567\n",
      "Test Acc :  0.9735054347826086\n",
      "Patience Counter :  23\n"
     ]
    },
    {
     "name": "stderr",
     "output_type": "stream",
     "text": [
      " 37%|███▋      | 30412/82200 [20:17<26:39, 32.38it/s]  "
     ]
    },
    {
     "name": "stdout",
     "output_type": "stream",
     "text": [
      "Epoch loss :  2.6466427973248685e-09\n",
      "Epoch accuracy :  1.0\n",
      "Test loss :  0.49794149066152393\n",
      "Test Acc :  0.9741847826086957\n",
      "Patience Counter :  24\n"
     ]
    },
    {
     "name": "stderr",
     "output_type": "stream",
     "text": [
      " 37%|███▋      | 30824/82200 [20:32<25:30, 33.58it/s]  "
     ]
    },
    {
     "name": "stdout",
     "output_type": "stream",
     "text": [
      "Epoch loss :  2.2478382399557826e-09\n",
      "Epoch accuracy :  1.0\n",
      "Test loss :  0.49988204508148965\n",
      "Test Acc :  0.9741847826086957\n",
      "Patience Counter :  25\n"
     ]
    },
    {
     "name": "stderr",
     "output_type": "stream",
     "text": [
      " 38%|███▊      | 31236/82200 [20:47<26:25, 32.14it/s]  "
     ]
    },
    {
     "name": "stdout",
     "output_type": "stream",
     "text": [
      "Epoch loss :  1.921542362371583e-09\n",
      "Epoch accuracy :  1.0\n",
      "Test loss :  0.513516905336183\n",
      "Test Acc :  0.9735054347826086\n",
      "Patience Counter :  26\n"
     ]
    },
    {
     "name": "stderr",
     "output_type": "stream",
     "text": [
      " 38%|███▊      | 31645/82200 [21:02<25:03, 33.62it/s]  "
     ]
    },
    {
     "name": "stdout",
     "output_type": "stream",
     "text": [
      "Epoch loss :  1.6586921768505234e-09\n",
      "Epoch accuracy :  1.0\n",
      "Test loss :  0.5114461765428883\n",
      "Test Acc :  0.9741847826086957\n",
      "Patience Counter :  27\n"
     ]
    },
    {
     "name": "stderr",
     "output_type": "stream",
     "text": [
      " 39%|███▉      | 32057/82200 [21:17<24:00, 34.81it/s]  "
     ]
    },
    {
     "name": "stdout",
     "output_type": "stream",
     "text": [
      "Epoch loss :  1.4139692282672451e-09\n",
      "Epoch accuracy :  1.0\n",
      "Test loss :  0.5140261901761971\n",
      "Test Acc :  0.9741847826086957\n",
      "Patience Counter :  28\n"
     ]
    },
    {
     "name": "stderr",
     "output_type": "stream",
     "text": [
      " 40%|███▉      | 32469/82200 [21:32<23:53, 34.68it/s]  "
     ]
    },
    {
     "name": "stdout",
     "output_type": "stream",
     "text": [
      "Epoch loss :  1.2145644571185056e-09\n",
      "Epoch accuracy :  1.0\n",
      "Test loss :  0.49631706181133556\n",
      "Test Acc :  0.9741847826086957\n",
      "Patience Counter :  29\n"
     ]
    },
    {
     "name": "stderr",
     "output_type": "stream",
     "text": [
      " 40%|███▉      | 32877/82200 [21:46<24:27, 33.62it/s]  "
     ]
    },
    {
     "name": "stdout",
     "output_type": "stream",
     "text": [
      "Epoch loss :  1.0332870671555023e-09\n",
      "Epoch accuracy :  1.0\n",
      "Test loss :  0.5010578166079219\n",
      "Test Acc :  0.9748641304347826\n",
      "Patience Counter :  30\n"
     ]
    },
    {
     "name": "stderr",
     "output_type": "stream",
     "text": [
      " 40%|████      | 33289/82200 [22:01<24:49, 32.84it/s]  "
     ]
    },
    {
     "name": "stdout",
     "output_type": "stream",
     "text": [
      "Epoch loss :  8.973288146593077e-10\n",
      "Epoch accuracy :  1.0\n",
      "Test loss :  0.4943230301530706\n",
      "Test Acc :  0.9748641304347826\n",
      "Patience Counter :  31\n"
     ]
    },
    {
     "name": "stderr",
     "output_type": "stream",
     "text": [
      " 41%|████      | 33701/82200 [22:16<24:39, 32.78it/s]  "
     ]
    },
    {
     "name": "stdout",
     "output_type": "stream",
     "text": [
      "Epoch loss :  7.704341830631492e-10\n",
      "Epoch accuracy :  1.0\n",
      "Test loss :  0.4774998047794102\n",
      "Test Acc :  0.9741847826086957\n",
      "Patience Counter :  32\n"
     ]
    },
    {
     "name": "stderr",
     "output_type": "stream",
     "text": [
      " 42%|████▏     | 34113/82200 [22:31<24:30, 32.70it/s]  "
     ]
    },
    {
     "name": "stdout",
     "output_type": "stream",
     "text": [
      "Epoch loss :  6.616673459474294e-10\n",
      "Epoch accuracy :  1.0\n",
      "Test loss :  0.5219959694435863\n",
      "Test Acc :  0.9728260869565217\n",
      "Patience Counter :  33\n"
     ]
    },
    {
     "name": "stderr",
     "output_type": "stream",
     "text": [
      " 42%|████▏     | 34521/82200 [22:46<23:31, 33.78it/s]  "
     ]
    },
    {
     "name": "stdout",
     "output_type": "stream",
     "text": [
      "Epoch loss :  5.982200979512915e-10\n",
      "Epoch accuracy :  1.0\n",
      "Test loss :  0.522920767100855\n",
      "Test Acc :  0.9728260869565217\n",
      "Patience Counter :  34\n"
     ]
    },
    {
     "name": "stderr",
     "output_type": "stream",
     "text": [
      " 42%|████▏     | 34933/82200 [23:01<21:56, 35.90it/s]  "
     ]
    },
    {
     "name": "stdout",
     "output_type": "stream",
     "text": [
      "Epoch loss :  5.438366437366338e-10\n",
      "Epoch accuracy :  1.0\n",
      "Test loss :  0.5239701152067073\n",
      "Test Acc :  0.9728260869565217\n",
      "Patience Counter :  35\n"
     ]
    },
    {
     "name": "stderr",
     "output_type": "stream",
     "text": [
      " 43%|████▎     | 35345/82200 [23:16<23:32, 33.17it/s]  "
     ]
    },
    {
     "name": "stdout",
     "output_type": "stream",
     "text": [
      "Epoch loss :  4.803891212912032e-10\n",
      "Epoch accuracy :  1.0\n",
      "Test loss :  0.5100395206575538\n",
      "Test Acc :  0.9735054347826086\n",
      "Patience Counter :  36\n"
     ]
    },
    {
     "name": "stderr",
     "output_type": "stream",
     "text": [
      " 44%|████▎     | 35757/82200 [23:31<23:29, 32.94it/s]  "
     ]
    },
    {
     "name": "stdout",
     "output_type": "stream",
     "text": [
      "Epoch loss :  4.350695305508578e-10\n",
      "Epoch accuracy :  1.0\n",
      "Test loss :  0.5255506903801643\n",
      "Test Acc :  0.9728260869565217\n",
      "Patience Counter :  37\n"
     ]
    },
    {
     "name": "stderr",
     "output_type": "stream",
     "text": [
      " 44%|████▍     | 36165/82200 [23:46<23:39, 32.43it/s]  "
     ]
    },
    {
     "name": "stdout",
     "output_type": "stream",
     "text": [
      "Epoch loss :  3.897498701176802e-10\n",
      "Epoch accuracy :  1.0\n",
      "Test loss :  0.5246700024020928\n",
      "Test Acc :  0.9735054347826086\n",
      "Patience Counter :  38\n"
     ]
    },
    {
     "name": "stderr",
     "output_type": "stream",
     "text": [
      " 44%|████▍     | 36577/82200 [24:01<22:50, 33.30it/s]  "
     ]
    },
    {
     "name": "stdout",
     "output_type": "stream",
     "text": [
      "Epoch loss :  3.6255807385777363e-10\n",
      "Epoch accuracy :  1.0\n",
      "Test loss :  0.5273504588837122\n",
      "Test Acc :  0.9728260869565217\n",
      "Patience Counter :  39\n"
     ]
    },
    {
     "name": "stderr",
     "output_type": "stream",
     "text": [
      " 45%|████▍     | 36989/82200 [24:16<22:52, 32.94it/s]  "
     ]
    },
    {
     "name": "stdout",
     "output_type": "stream",
     "text": [
      "Epoch loss :  3.2630231255570623e-10\n",
      "Epoch accuracy :  1.0\n",
      "Test loss :  0.5183408558695516\n",
      "Test Acc :  0.9735054347826086\n",
      "Stopping early as no improvement since 20 epochs\n",
      "Best Epoch :  50\n",
      "Best test Accuracy :  0.9769021739130435\n"
     ]
    }
   ],
   "source": [
    "# Training Loop\n",
    "\n",
    "model_storage_path = \"/data4/home/hrishikeshj/DLNLP/ADRLA3/FineTunedModels/FT10Perc.pt\"\n",
    "progress_bar = tqdm(range(fine_tune_epochs*len(subset_dataloader)))\n",
    "best_test_acc = 0.0\n",
    "best_epoch = 0\n",
    "patience_counter = 0\n",
    "for epoch in range(fine_tune_epochs):\n",
    "\n",
    "    # Freeze the encoder, train classification head\n",
    "    query_encoder.eval()\n",
    "    run_loss = 0.0\n",
    "    run_acc = 0.0\n",
    "\n",
    "    \n",
    "\n",
    "    for i, (inputs, target) in enumerate(subset_dataloader):\n",
    "\n",
    "        inputs = inputs.to(device)\n",
    "        target = target.to(device)\n",
    "\n",
    "        # Forward pass\n",
    "        optimiser.zero_grad()\n",
    "\n",
    "        # Do not compute the gradients for the frozen encoder\n",
    "        output = query_encoder(inputs)\n",
    "\n",
    "        # Take pretrained encoder representations\n",
    "        loss = criterion(output, target)\n",
    "\n",
    "        loss.backward()\n",
    "\n",
    "        optimiser.step()\n",
    "\n",
    "        run_loss += loss.item()\n",
    "\n",
    "        predicted = output.argmax(1)\n",
    "\n",
    "        acc = (predicted == target).sum().item() / target.size(0)\n",
    "\n",
    "        run_acc += acc\n",
    "\n",
    "        progress_bar.update(1)\n",
    "\n",
    "    epoch_finetune_loss = run_loss / len(subset_dataloader)  # sample_count\n",
    "\n",
    "    epoch_finetune_acc = run_acc / len(subset_dataloader)\n",
    "\n",
    "    ''' Update Schedulers '''\n",
    "    # Decay lr with CosineAnnealingLR\n",
    "    lr_decay.step()\n",
    "\n",
    "    ''' Printing '''\n",
    "    print(\"Epoch loss : \",epoch_finetune_loss)\n",
    "    print(\"Epoch accuracy : \",epoch_finetune_acc)\n",
    "\n",
    "    test_valid_loss, test_valid_acc = evaluate(query_encoder, test_dataloader)\n",
    "\n",
    "    if test_valid_acc>best_test_acc:\n",
    "        patience_counter = 0\n",
    "        best_test_acc = test_valid_acc\n",
    "        best_epoch = epoch + 1\n",
    "        torch.save(query_encoder.state_dict(),model_storage_path)\n",
    "    else:\n",
    "        patience_counter += 1\n",
    "        if patience_counter>=patience:\n",
    "            print(\"Stopping early as no improvement since 20 epochs\")\n",
    "            break\n",
    "        else:\n",
    "            print(\"Patience Counter : \",patience_counter)\n",
    "\n",
    "    \n",
    "    epoch_finetune_loss = None  # reset loss\n",
    "    epoch_finetune_acc = None\n",
    "\n",
    "    torch.cuda.empty_cache()\n",
    "\n",
    "print(\"Best Epoch : \",best_epoch)\n",
    "print(\"Best test Accuracy : \",best_test_acc)\n"
   ]
  },
  {
   "cell_type": "markdown",
   "metadata": {},
   "source": [
    "# Observations\n",
    "\n",
    "1. Performed Experiments with 10%, 20%, .... 90% supervised data for fine tuning.\n",
    "\n",
    "Following Table gives Accuracy obtained by a subset of supervised training data\n",
    "\n",
    "| Percentage of Supervised Data | Accuracy of Fine-Tuned MoCo Model |\n",
    "|-------------------------------|-----------------------------------|\n",
    "|10|85.93|\n",
    "|20| 89.40|\n",
    "|30| 91.50|\n",
    "|40|94.02|\n",
    "|50| 95.31|\n",
    "|60| 95.44|\n",
    "|70| 97.07|\n",
    "|80| 97.01|\n",
    "|90| 97.69|\n",
    "\n",
    "2. The Full Blown CNN Model Could Achieve accuracy of 97.53%"
   ]
  },
  {
   "cell_type": "markdown",
   "metadata": {},
   "source": [
    "Following Chart shows The Visualization of Above Data"
   ]
  },
  {
   "attachments": {
    "image.png": {
     "image/png": "[encoded data removed]"
    }
   },
   "cell_type": "markdown",
   "metadata": {},
   "source": [
    "![image.png](attachment:image.png)"
   ]
  },
  {
   "cell_type": "markdown",
   "metadata": {},
   "source": [
    "Observations Continued..\n",
    "\n",
    "3. The red line shows accuracy obtained by full blown CNN\n",
    "4. From the Chart it can be observed that with around <b>70%</b> of supervised data MoCo model gives competitive\n",
    "performance to a full blown CNN which is trained on entire training data.\n",
    "5. With <b>90%</b> Training data it not only equals its performance to CNN model but surpasses it by a slight margin."
   ]
  },
  {
   "cell_type": "markdown",
   "metadata": {},
   "source": [
    "# Conclusion\n",
    "1. With the use of MoCo pretraining we can achieve reduction in the supervised training data needed. and still\n",
    "achieve performance comparable to the models trained on 100% of data.\n",
    "2. Particularly in our case we observed comparable performace to a full blown model with <b>30% reduction in supervised data.</b>"
   ]
  },
  {
   "cell_type": "markdown",
   "metadata": {},
   "source": []
  }
 ],
 "metadata": {
  "language_info": {
   "name": "python"
  }
 },
 "nbformat": 4,
 "nbformat_minor": 2
}
